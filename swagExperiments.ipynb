{
 "cells": [
  {
   "cell_type": "code",
   "execution_count": 1,
   "metadata": {},
   "outputs": [],
   "source": [
    "from swag.posteriors import SWAG\n",
    "from swag import data, models, utils, losses\n",
    "import torch"
   ]
  },
  {
   "cell_type": "code",
   "execution_count": 2,
   "metadata": {},
   "outputs": [],
   "source": [
    "model_cfg = getattr(models, 'PreResNet20')\n",
    "inference = 'low_rank_gaussian'\n",
    "subspace = 'covariance'\n",
    "no_cov_mat = False\n",
    "device = torch.device('cpu')"
   ]
  },
  {
   "cell_type": "code",
   "execution_count": null,
   "metadata": {},
   "outputs": [],
   "source": []
  },
  {
   "cell_type": "code",
   "execution_count": null,
   "metadata": {},
   "outputs": [],
   "source": []
  },
  {
   "cell_type": "code",
   "execution_count": 3,
   "metadata": {},
   "outputs": [
    {
     "data": {
      "text/plain": [
       "<All keys matched successfully>"
      ]
     },
     "execution_count": 3,
     "metadata": {},
     "output_type": "execute_result"
    }
   ],
   "source": [
    "swag_model = SWAG(model_cfg.base,\n",
    "                subspace, {'max_rank': 20},\n",
    "                *model_cfg.args, num_classes=10,\n",
    "                **model_cfg.kwargs)\n",
    "swag_model.to(device)\n",
    "checkpoint = torch.load('/media/data_dump/Mohit/bayesianML/models/iter16/swag-300.pt')\n",
    "swag_model.subspace.rank = torch.tensor(0)\n",
    "swag_model.load_state_dict(checkpoint['state_dict'])"
   ]
  },
  {
   "cell_type": "code",
   "execution_count": null,
   "metadata": {},
   "outputs": [],
   "source": []
  },
  {
   "cell_type": "code",
   "execution_count": 4,
   "metadata": {},
   "outputs": [],
   "source": [
    "mean, variance = swag_model._get_mean_and_variance()"
   ]
  },
  {
   "cell_type": "code",
   "execution_count": 5,
   "metadata": {},
   "outputs": [],
   "source": [
    "mean = mean.to(device)\n",
    "variance = variance.to(device)"
   ]
  },
  {
   "cell_type": "code",
   "execution_count": 8,
   "metadata": {},
   "outputs": [
    {
     "data": {
      "text/plain": [
       "torch.Size([272282])"
      ]
     },
     "execution_count": 8,
     "metadata": {},
     "output_type": "execute_result"
    }
   ],
   "source": [
    "mean.shape"
   ]
  },
  {
   "cell_type": "code",
   "execution_count": 6,
   "metadata": {},
   "outputs": [],
   "source": [
    "testSwagModel = SWAG(model_cfg.base,\n",
    "                subspace, {'max_rank': 20},\n",
    "                *model_cfg.args, num_classes=10,\n",
    "                **model_cfg.kwargs, customModel=True, newMean=mean, newCovar = variance)\n",
    "testSwagModel.to(device)"
   ]
  },
  {
   "cell_type": "code",
   "execution_count": 7,
   "metadata": {},
   "outputs": [],
   "source": [
    "from swag import data, models, utils, losses\n",
    "utils.save_checkpoint(\n",
    "                '/home/mohit/understandingbdl/',\n",
    "                300,\n",
    "                name='swag',\n",
    "                state_dict=testSwagModel.state_dict(),\n",
    "            )"
   ]
  },
  {
   "cell_type": "code",
   "execution_count": null,
   "metadata": {},
   "outputs": [],
   "source": []
  },
  {
   "cell_type": "code",
   "execution_count": null,
   "metadata": {},
   "outputs": [],
   "source": []
  },
  {
   "cell_type": "code",
   "execution_count": 17,
   "metadata": {},
   "outputs": [],
   "source": [
    "new_swag_model = SWAG(model_cfg.base,\n",
    "                subspace, {'max_rank': 20},\n",
    "                *model_cfg.args, num_classes=10,\n",
    "                **model_cfg.kwargs)"
   ]
  },
  {
   "cell_type": "code",
   "execution_count": 19,
   "metadata": {},
   "outputs": [
    {
     "data": {
      "text/plain": [
       "odict_keys(['mean', 'sq_mean', 'n_models', 'base_model.conv1.weight', 'base_model.layer1.0.bn1.weight', 'base_model.layer1.0.bn1.bias', 'base_model.layer1.0.bn1.running_mean', 'base_model.layer1.0.bn1.running_var', 'base_model.layer1.0.bn1.num_batches_tracked', 'base_model.layer1.0.conv1.weight', 'base_model.layer1.0.bn2.weight', 'base_model.layer1.0.bn2.bias', 'base_model.layer1.0.bn2.running_mean', 'base_model.layer1.0.bn2.running_var', 'base_model.layer1.0.bn2.num_batches_tracked', 'base_model.layer1.0.conv2.weight', 'base_model.layer1.1.bn1.weight', 'base_model.layer1.1.bn1.bias', 'base_model.layer1.1.bn1.running_mean', 'base_model.layer1.1.bn1.running_var', 'base_model.layer1.1.bn1.num_batches_tracked', 'base_model.layer1.1.conv1.weight', 'base_model.layer1.1.bn2.weight', 'base_model.layer1.1.bn2.bias', 'base_model.layer1.1.bn2.running_mean', 'base_model.layer1.1.bn2.running_var', 'base_model.layer1.1.bn2.num_batches_tracked', 'base_model.layer1.1.conv2.weight', 'base_model.layer1.2.bn1.weight', 'base_model.layer1.2.bn1.bias', 'base_model.layer1.2.bn1.running_mean', 'base_model.layer1.2.bn1.running_var', 'base_model.layer1.2.bn1.num_batches_tracked', 'base_model.layer1.2.conv1.weight', 'base_model.layer1.2.bn2.weight', 'base_model.layer1.2.bn2.bias', 'base_model.layer1.2.bn2.running_mean', 'base_model.layer1.2.bn2.running_var', 'base_model.layer1.2.bn2.num_batches_tracked', 'base_model.layer1.2.conv2.weight', 'base_model.layer2.0.bn1.weight', 'base_model.layer2.0.bn1.bias', 'base_model.layer2.0.bn1.running_mean', 'base_model.layer2.0.bn1.running_var', 'base_model.layer2.0.bn1.num_batches_tracked', 'base_model.layer2.0.conv1.weight', 'base_model.layer2.0.bn2.weight', 'base_model.layer2.0.bn2.bias', 'base_model.layer2.0.bn2.running_mean', 'base_model.layer2.0.bn2.running_var', 'base_model.layer2.0.bn2.num_batches_tracked', 'base_model.layer2.0.conv2.weight', 'base_model.layer2.0.downsample.0.weight', 'base_model.layer2.1.bn1.weight', 'base_model.layer2.1.bn1.bias', 'base_model.layer2.1.bn1.running_mean', 'base_model.layer2.1.bn1.running_var', 'base_model.layer2.1.bn1.num_batches_tracked', 'base_model.layer2.1.conv1.weight', 'base_model.layer2.1.bn2.weight', 'base_model.layer2.1.bn2.bias', 'base_model.layer2.1.bn2.running_mean', 'base_model.layer2.1.bn2.running_var', 'base_model.layer2.1.bn2.num_batches_tracked', 'base_model.layer2.1.conv2.weight', 'base_model.layer2.2.bn1.weight', 'base_model.layer2.2.bn1.bias', 'base_model.layer2.2.bn1.running_mean', 'base_model.layer2.2.bn1.running_var', 'base_model.layer2.2.bn1.num_batches_tracked', 'base_model.layer2.2.conv1.weight', 'base_model.layer2.2.bn2.weight', 'base_model.layer2.2.bn2.bias', 'base_model.layer2.2.bn2.running_mean', 'base_model.layer2.2.bn2.running_var', 'base_model.layer2.2.bn2.num_batches_tracked', 'base_model.layer2.2.conv2.weight', 'base_model.layer3.0.bn1.weight', 'base_model.layer3.0.bn1.bias', 'base_model.layer3.0.bn1.running_mean', 'base_model.layer3.0.bn1.running_var', 'base_model.layer3.0.bn1.num_batches_tracked', 'base_model.layer3.0.conv1.weight', 'base_model.layer3.0.bn2.weight', 'base_model.layer3.0.bn2.bias', 'base_model.layer3.0.bn2.running_mean', 'base_model.layer3.0.bn2.running_var', 'base_model.layer3.0.bn2.num_batches_tracked', 'base_model.layer3.0.conv2.weight', 'base_model.layer3.0.downsample.0.weight', 'base_model.layer3.1.bn1.weight', 'base_model.layer3.1.bn1.bias', 'base_model.layer3.1.bn1.running_mean', 'base_model.layer3.1.bn1.running_var', 'base_model.layer3.1.bn1.num_batches_tracked', 'base_model.layer3.1.conv1.weight', 'base_model.layer3.1.bn2.weight', 'base_model.layer3.1.bn2.bias', 'base_model.layer3.1.bn2.running_mean', 'base_model.layer3.1.bn2.running_var', 'base_model.layer3.1.bn2.num_batches_tracked', 'base_model.layer3.1.conv2.weight', 'base_model.layer3.2.bn1.weight', 'base_model.layer3.2.bn1.bias', 'base_model.layer3.2.bn1.running_mean', 'base_model.layer3.2.bn1.running_var', 'base_model.layer3.2.bn1.num_batches_tracked', 'base_model.layer3.2.conv1.weight', 'base_model.layer3.2.bn2.weight', 'base_model.layer3.2.bn2.bias', 'base_model.layer3.2.bn2.running_mean', 'base_model.layer3.2.bn2.running_var', 'base_model.layer3.2.bn2.num_batches_tracked', 'base_model.layer3.2.conv2.weight', 'base_model.bn.weight', 'base_model.bn.bias', 'base_model.bn.running_mean', 'base_model.bn.running_var', 'base_model.bn.num_batches_tracked', 'base_model.fc.weight', 'base_model.fc.bias', 'subspace.rank', 'subspace.cov_mat_sqrt'])"
      ]
     },
     "execution_count": 19,
     "metadata": {},
     "output_type": "execute_result"
    }
   ],
   "source": [
    "checkpoint['state_dict'].keys()"
   ]
  },
  {
   "cell_type": "code",
   "execution_count": null,
   "metadata": {},
   "outputs": [],
   "source": []
  }
 ],
 "metadata": {
  "kernelspec": {
   "display_name": "Python 3",
   "language": "python",
   "name": "python3"
  },
  "language_info": {
   "codemirror_mode": {
    "name": "ipython",
    "version": 3
   },
   "file_extension": ".py",
   "mimetype": "text/x-python",
   "name": "python",
   "nbconvert_exporter": "python",
   "pygments_lexer": "ipython3",
   "version": "3.7.7"
  }
 },
 "nbformat": 4,
 "nbformat_minor": 4
}
