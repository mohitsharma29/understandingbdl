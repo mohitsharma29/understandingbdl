{
 "cells": [
  {
   "cell_type": "code",
   "execution_count": 1,
   "metadata": {},
   "outputs": [],
   "source": [
    "from swag.posteriors import SWAG\n",
    "from swag import data, models, utils, losses\n",
    "import torch"
   ]
  },
  {
   "cell_type": "code",
   "execution_count": 2,
   "metadata": {},
   "outputs": [],
   "source": [
    "model_cfg = getattr(models, 'PreResNet20')\n",
    "inference = 'low_rank_gaussian'\n",
    "subspace = 'covariance'\n",
    "no_cov_mat = False\n",
    "device = torch.device('cuda')"
   ]
  },
  {
   "cell_type": "code",
   "execution_count": null,
   "metadata": {},
   "outputs": [],
   "source": []
  },
  {
   "cell_type": "code",
   "execution_count": null,
   "metadata": {},
   "outputs": [],
   "source": []
  },
  {
   "cell_type": "code",
   "execution_count": 3,
   "metadata": {},
   "outputs": [
    {
     "data": {
      "text/plain": [
       "<All keys matched successfully>"
      ]
     },
     "execution_count": 3,
     "metadata": {},
     "output_type": "execute_result"
    }
   ],
   "source": [
    "swag_model = SWAG(model_cfg.base,\n",
    "                subspace, {'max_rank': 20},\n",
    "                *model_cfg.args, num_classes=10,\n",
    "                **model_cfg.kwargs)\n",
    "swag_model.to(device)\n",
    "checkpoint = torch.load('/media/data_dump/Mohit/bayesianML/models/iter16/swag-300.pt')\n",
    "swag_model.subspace.rank = torch.tensor(0)\n",
    "swag_model.load_state_dict(checkpoint['state_dict'])"
   ]
  },
  {
   "cell_type": "code",
   "execution_count": null,
   "metadata": {},
   "outputs": [],
   "source": []
  },
  {
   "cell_type": "code",
   "execution_count": 4,
   "metadata": {},
   "outputs": [],
   "source": [
    "mean, variance = swag_model._get_mean_and_variance()"
   ]
  },
  {
   "cell_type": "code",
   "execution_count": 6,
   "metadata": {},
   "outputs": [],
   "source": [
    "testSwagModel = SWAG(model_cfg.base,\n",
    "                subspace, {'max_rank': 20},\n",
    "                *model_cfg.args, num_classes=10,\n",
    "                **model_cfg.kwargs, customModel=True, newMean=mean, newCovar = variance)"
   ]
  },
  {
   "cell_type": "code",
   "execution_count": 7,
   "metadata": {},
   "outputs": [],
   "source": [
    "torch.save(testSwagModel.state_dict(), 'testSwagModel.pt')"
   ]
  },
  {
   "cell_type": "code",
   "execution_count": 8,
   "metadata": {},
   "outputs": [
    {
     "data": {
      "text/plain": [
       "<bound method Module.state_dict of SWAG(\n",
       "  (base_model): PreResNet(\n",
       "    (conv1): Conv2d(3, 16, kernel_size=(3, 3), stride=(1, 1), padding=(1, 1), bias=False)\n",
       "    (layer1): Sequential(\n",
       "      (0): BasicBlock(\n",
       "        (bn1): BatchNorm2d(16, eps=1e-05, momentum=0.1, affine=True, track_running_stats=True)\n",
       "        (relu): ReLU(inplace=True)\n",
       "        (conv1): Conv2d(16, 16, kernel_size=(3, 3), stride=(1, 1), padding=(1, 1), bias=False)\n",
       "        (bn2): BatchNorm2d(16, eps=1e-05, momentum=0.1, affine=True, track_running_stats=True)\n",
       "        (conv2): Conv2d(16, 16, kernel_size=(3, 3), stride=(1, 1), padding=(1, 1), bias=False)\n",
       "      )\n",
       "      (1): BasicBlock(\n",
       "        (bn1): BatchNorm2d(16, eps=1e-05, momentum=0.1, affine=True, track_running_stats=True)\n",
       "        (relu): ReLU(inplace=True)\n",
       "        (conv1): Conv2d(16, 16, kernel_size=(3, 3), stride=(1, 1), padding=(1, 1), bias=False)\n",
       "        (bn2): BatchNorm2d(16, eps=1e-05, momentum=0.1, affine=True, track_running_stats=True)\n",
       "        (conv2): Conv2d(16, 16, kernel_size=(3, 3), stride=(1, 1), padding=(1, 1), bias=False)\n",
       "      )\n",
       "      (2): BasicBlock(\n",
       "        (bn1): BatchNorm2d(16, eps=1e-05, momentum=0.1, affine=True, track_running_stats=True)\n",
       "        (relu): ReLU(inplace=True)\n",
       "        (conv1): Conv2d(16, 16, kernel_size=(3, 3), stride=(1, 1), padding=(1, 1), bias=False)\n",
       "        (bn2): BatchNorm2d(16, eps=1e-05, momentum=0.1, affine=True, track_running_stats=True)\n",
       "        (conv2): Conv2d(16, 16, kernel_size=(3, 3), stride=(1, 1), padding=(1, 1), bias=False)\n",
       "      )\n",
       "    )\n",
       "    (layer2): Sequential(\n",
       "      (0): BasicBlock(\n",
       "        (bn1): BatchNorm2d(16, eps=1e-05, momentum=0.1, affine=True, track_running_stats=True)\n",
       "        (relu): ReLU(inplace=True)\n",
       "        (conv1): Conv2d(16, 32, kernel_size=(3, 3), stride=(2, 2), padding=(1, 1), bias=False)\n",
       "        (bn2): BatchNorm2d(32, eps=1e-05, momentum=0.1, affine=True, track_running_stats=True)\n",
       "        (conv2): Conv2d(32, 32, kernel_size=(3, 3), stride=(1, 1), padding=(1, 1), bias=False)\n",
       "        (downsample): Sequential(\n",
       "          (0): Conv2d(16, 32, kernel_size=(1, 1), stride=(2, 2), bias=False)\n",
       "        )\n",
       "      )\n",
       "      (1): BasicBlock(\n",
       "        (bn1): BatchNorm2d(32, eps=1e-05, momentum=0.1, affine=True, track_running_stats=True)\n",
       "        (relu): ReLU(inplace=True)\n",
       "        (conv1): Conv2d(32, 32, kernel_size=(3, 3), stride=(1, 1), padding=(1, 1), bias=False)\n",
       "        (bn2): BatchNorm2d(32, eps=1e-05, momentum=0.1, affine=True, track_running_stats=True)\n",
       "        (conv2): Conv2d(32, 32, kernel_size=(3, 3), stride=(1, 1), padding=(1, 1), bias=False)\n",
       "      )\n",
       "      (2): BasicBlock(\n",
       "        (bn1): BatchNorm2d(32, eps=1e-05, momentum=0.1, affine=True, track_running_stats=True)\n",
       "        (relu): ReLU(inplace=True)\n",
       "        (conv1): Conv2d(32, 32, kernel_size=(3, 3), stride=(1, 1), padding=(1, 1), bias=False)\n",
       "        (bn2): BatchNorm2d(32, eps=1e-05, momentum=0.1, affine=True, track_running_stats=True)\n",
       "        (conv2): Conv2d(32, 32, kernel_size=(3, 3), stride=(1, 1), padding=(1, 1), bias=False)\n",
       "      )\n",
       "    )\n",
       "    (layer3): Sequential(\n",
       "      (0): BasicBlock(\n",
       "        (bn1): BatchNorm2d(32, eps=1e-05, momentum=0.1, affine=True, track_running_stats=True)\n",
       "        (relu): ReLU(inplace=True)\n",
       "        (conv1): Conv2d(32, 64, kernel_size=(3, 3), stride=(2, 2), padding=(1, 1), bias=False)\n",
       "        (bn2): BatchNorm2d(64, eps=1e-05, momentum=0.1, affine=True, track_running_stats=True)\n",
       "        (conv2): Conv2d(64, 64, kernel_size=(3, 3), stride=(1, 1), padding=(1, 1), bias=False)\n",
       "        (downsample): Sequential(\n",
       "          (0): Conv2d(32, 64, kernel_size=(1, 1), stride=(2, 2), bias=False)\n",
       "        )\n",
       "      )\n",
       "      (1): BasicBlock(\n",
       "        (bn1): BatchNorm2d(64, eps=1e-05, momentum=0.1, affine=True, track_running_stats=True)\n",
       "        (relu): ReLU(inplace=True)\n",
       "        (conv1): Conv2d(64, 64, kernel_size=(3, 3), stride=(1, 1), padding=(1, 1), bias=False)\n",
       "        (bn2): BatchNorm2d(64, eps=1e-05, momentum=0.1, affine=True, track_running_stats=True)\n",
       "        (conv2): Conv2d(64, 64, kernel_size=(3, 3), stride=(1, 1), padding=(1, 1), bias=False)\n",
       "      )\n",
       "      (2): BasicBlock(\n",
       "        (bn1): BatchNorm2d(64, eps=1e-05, momentum=0.1, affine=True, track_running_stats=True)\n",
       "        (relu): ReLU(inplace=True)\n",
       "        (conv1): Conv2d(64, 64, kernel_size=(3, 3), stride=(1, 1), padding=(1, 1), bias=False)\n",
       "        (bn2): BatchNorm2d(64, eps=1e-05, momentum=0.1, affine=True, track_running_stats=True)\n",
       "        (conv2): Conv2d(64, 64, kernel_size=(3, 3), stride=(1, 1), padding=(1, 1), bias=False)\n",
       "      )\n",
       "    )\n",
       "    (bn): BatchNorm2d(64, eps=1e-05, momentum=0.1, affine=True, track_running_stats=True)\n",
       "    (relu): ReLU(inplace=True)\n",
       "    (avgpool): AvgPool2d(kernel_size=8, stride=8, padding=0)\n",
       "    (fc): Linear(in_features=64, out_features=10, bias=True)\n",
       "  )\n",
       "  (subspace): CovarianceSpace()\n",
       ")>"
      ]
     },
     "execution_count": 8,
     "metadata": {},
     "output_type": "execute_result"
    }
   ],
   "source": [
    "secondTestSwagModel = SWAG(model_cfg.base,\n",
    "                subspace, {'max_rank': 20},\n",
    "                *model_cfg.args, num_classes=10,\n",
    "                **model_cfg.kwargs, customModel=True, newMean=mean, newCovar = variance)\n",
    "swag_model.to(device)\n",
    "checkpoint = torch.load('/media/data_dump/Mohit/bayesianML/models/iter16/swag-300.pt')\n",
    "swag_model.subspace.rank = torch.tensor(0)\n",
    "swag_model.load_state_dict(checkpoint['state_dict'])"
   ]
  },
  {
   "cell_type": "code",
   "execution_count": null,
   "metadata": {},
   "outputs": [],
   "source": []
  },
  {
   "cell_type": "code",
   "execution_count": 17,
   "metadata": {},
   "outputs": [],
   "source": [
    "new_swag_model = SWAG(model_cfg.base,\n",
    "                subspace, {'max_rank': 20},\n",
    "                *model_cfg.args, num_classes=10,\n",
    "                **model_cfg.kwargs)"
   ]
  },
  {
   "cell_type": "code",
   "execution_count": 19,
   "metadata": {},
   "outputs": [
    {
     "data": {
      "text/plain": [
       "odict_keys(['mean', 'sq_mean', 'n_models', 'base_model.conv1.weight', 'base_model.layer1.0.bn1.weight', 'base_model.layer1.0.bn1.bias', 'base_model.layer1.0.bn1.running_mean', 'base_model.layer1.0.bn1.running_var', 'base_model.layer1.0.bn1.num_batches_tracked', 'base_model.layer1.0.conv1.weight', 'base_model.layer1.0.bn2.weight', 'base_model.layer1.0.bn2.bias', 'base_model.layer1.0.bn2.running_mean', 'base_model.layer1.0.bn2.running_var', 'base_model.layer1.0.bn2.num_batches_tracked', 'base_model.layer1.0.conv2.weight', 'base_model.layer1.1.bn1.weight', 'base_model.layer1.1.bn1.bias', 'base_model.layer1.1.bn1.running_mean', 'base_model.layer1.1.bn1.running_var', 'base_model.layer1.1.bn1.num_batches_tracked', 'base_model.layer1.1.conv1.weight', 'base_model.layer1.1.bn2.weight', 'base_model.layer1.1.bn2.bias', 'base_model.layer1.1.bn2.running_mean', 'base_model.layer1.1.bn2.running_var', 'base_model.layer1.1.bn2.num_batches_tracked', 'base_model.layer1.1.conv2.weight', 'base_model.layer1.2.bn1.weight', 'base_model.layer1.2.bn1.bias', 'base_model.layer1.2.bn1.running_mean', 'base_model.layer1.2.bn1.running_var', 'base_model.layer1.2.bn1.num_batches_tracked', 'base_model.layer1.2.conv1.weight', 'base_model.layer1.2.bn2.weight', 'base_model.layer1.2.bn2.bias', 'base_model.layer1.2.bn2.running_mean', 'base_model.layer1.2.bn2.running_var', 'base_model.layer1.2.bn2.num_batches_tracked', 'base_model.layer1.2.conv2.weight', 'base_model.layer2.0.bn1.weight', 'base_model.layer2.0.bn1.bias', 'base_model.layer2.0.bn1.running_mean', 'base_model.layer2.0.bn1.running_var', 'base_model.layer2.0.bn1.num_batches_tracked', 'base_model.layer2.0.conv1.weight', 'base_model.layer2.0.bn2.weight', 'base_model.layer2.0.bn2.bias', 'base_model.layer2.0.bn2.running_mean', 'base_model.layer2.0.bn2.running_var', 'base_model.layer2.0.bn2.num_batches_tracked', 'base_model.layer2.0.conv2.weight', 'base_model.layer2.0.downsample.0.weight', 'base_model.layer2.1.bn1.weight', 'base_model.layer2.1.bn1.bias', 'base_model.layer2.1.bn1.running_mean', 'base_model.layer2.1.bn1.running_var', 'base_model.layer2.1.bn1.num_batches_tracked', 'base_model.layer2.1.conv1.weight', 'base_model.layer2.1.bn2.weight', 'base_model.layer2.1.bn2.bias', 'base_model.layer2.1.bn2.running_mean', 'base_model.layer2.1.bn2.running_var', 'base_model.layer2.1.bn2.num_batches_tracked', 'base_model.layer2.1.conv2.weight', 'base_model.layer2.2.bn1.weight', 'base_model.layer2.2.bn1.bias', 'base_model.layer2.2.bn1.running_mean', 'base_model.layer2.2.bn1.running_var', 'base_model.layer2.2.bn1.num_batches_tracked', 'base_model.layer2.2.conv1.weight', 'base_model.layer2.2.bn2.weight', 'base_model.layer2.2.bn2.bias', 'base_model.layer2.2.bn2.running_mean', 'base_model.layer2.2.bn2.running_var', 'base_model.layer2.2.bn2.num_batches_tracked', 'base_model.layer2.2.conv2.weight', 'base_model.layer3.0.bn1.weight', 'base_model.layer3.0.bn1.bias', 'base_model.layer3.0.bn1.running_mean', 'base_model.layer3.0.bn1.running_var', 'base_model.layer3.0.bn1.num_batches_tracked', 'base_model.layer3.0.conv1.weight', 'base_model.layer3.0.bn2.weight', 'base_model.layer3.0.bn2.bias', 'base_model.layer3.0.bn2.running_mean', 'base_model.layer3.0.bn2.running_var', 'base_model.layer3.0.bn2.num_batches_tracked', 'base_model.layer3.0.conv2.weight', 'base_model.layer3.0.downsample.0.weight', 'base_model.layer3.1.bn1.weight', 'base_model.layer3.1.bn1.bias', 'base_model.layer3.1.bn1.running_mean', 'base_model.layer3.1.bn1.running_var', 'base_model.layer3.1.bn1.num_batches_tracked', 'base_model.layer3.1.conv1.weight', 'base_model.layer3.1.bn2.weight', 'base_model.layer3.1.bn2.bias', 'base_model.layer3.1.bn2.running_mean', 'base_model.layer3.1.bn2.running_var', 'base_model.layer3.1.bn2.num_batches_tracked', 'base_model.layer3.1.conv2.weight', 'base_model.layer3.2.bn1.weight', 'base_model.layer3.2.bn1.bias', 'base_model.layer3.2.bn1.running_mean', 'base_model.layer3.2.bn1.running_var', 'base_model.layer3.2.bn1.num_batches_tracked', 'base_model.layer3.2.conv1.weight', 'base_model.layer3.2.bn2.weight', 'base_model.layer3.2.bn2.bias', 'base_model.layer3.2.bn2.running_mean', 'base_model.layer3.2.bn2.running_var', 'base_model.layer3.2.bn2.num_batches_tracked', 'base_model.layer3.2.conv2.weight', 'base_model.bn.weight', 'base_model.bn.bias', 'base_model.bn.running_mean', 'base_model.bn.running_var', 'base_model.bn.num_batches_tracked', 'base_model.fc.weight', 'base_model.fc.bias', 'subspace.rank', 'subspace.cov_mat_sqrt'])"
      ]
     },
     "execution_count": 19,
     "metadata": {},
     "output_type": "execute_result"
    }
   ],
   "source": [
    "checkpoint['state_dict'].keys()"
   ]
  },
  {
   "cell_type": "code",
   "execution_count": null,
   "metadata": {},
   "outputs": [],
   "source": []
  }
 ],
 "metadata": {
  "kernelspec": {
   "display_name": "Python 3",
   "language": "python",
   "name": "python3"
  },
  "language_info": {
   "codemirror_mode": {
    "name": "ipython",
    "version": 3
   },
   "file_extension": ".py",
   "mimetype": "text/x-python",
   "name": "python",
   "nbconvert_exporter": "python",
   "pygments_lexer": "ipython3",
   "version": "3.7.7"
  }
 },
 "nbformat": 4,
 "nbformat_minor": 4
}
