{
 "cells": [
  {
   "cell_type": "code",
   "execution_count": 1,
   "metadata": {},
   "outputs": [],
   "source": [
    "import argparse\n",
    "import os, sys \n",
    "import time\n",
    "import tabulate\n",
    "\n",
    "sys.path.append('/home/mohit/understandingbdl/')\n",
    "import torch\n",
    "import torch.nn.functional as F\n",
    "import torchvision\n",
    "import numpy as np\n",
    "\n",
    "from swag import data, models, utils, losses\n",
    "from swag.posteriors import SWAG\n",
    "\n",
    "os.environ[\"CUDA_DEVICE_ORDER\"] = \"PCI_BUS_ID\"\n",
    "os.environ[\"CUDA_VISIBLE_DEVICES\"] = \"0\""
   ]
  },
  {
   "cell_type": "code",
   "execution_count": 2,
   "metadata": {},
   "outputs": [],
   "source": [
    "#parser = argparse.ArgumentParser(description='SGD/SWA training')\n",
    "savedir = ''\n",
    "with open('swagModelPaths.txt', 'r') as f:\n",
    "    swag_ckpts = f.readlines()[0][1:-1].split(' ')\n",
    "dataset = 'CIFAR10'\n",
    "data_path = '/home/mohit/cifar-normal/cifar-10-batches-py/'\n",
    "use_test = True\n",
    "batch_size = 256\n",
    "num_workers = 4\n",
    "model = 'PreResNet20'\n",
    "label_arr = None\n",
    "max_num_models = 20\n",
    "swag_samples = 5\n",
    "inference = 'low_rank_gaussian'\n",
    "subspace = 'covariance'\n",
    "no_cov_mat = False\n",
    "\n",
    "device = None\n",
    "if torch.cuda.is_available():\n",
    "    device = torch.device('cuda')\n",
    "else:\n",
    "    device = torch.device('cpu')\n",
    "torch.backends.cudnn.benchmark = True\n",
    "model_cfg = getattr(models, model)\n",
    "columns = ['swag', 'sample', 'te_loss', 'te_acc', 'ens_loss', 'ens_acc']"
   ]
  },
  {
   "cell_type": "code",
   "execution_count": 3,
   "metadata": {},
   "outputs": [
    {
     "data": {
      "text/plain": [
       "['/media/data_dump/Mohit/bayesianML/models/iter16/swag-300.pt',\n",
       " '/media/data_dump/Mohit/bayesianML/models/iter10/swag-300.pt',\n",
       " '/media/data_dump/Mohit/bayesianML/models/iter3/swag-300.pt',\n",
       " '/media/data_dump/Mohit/bayesianML/models/iter17/swag-300.pt',\n",
       " '/media/data_dump/Mohit/bayesianML/models/iter14/swag-300.pt',\n",
       " '/media/data_dump/Mohit/bayesianML/models/iter23/swag-300.pt',\n",
       " '/media/data_dump/Mohit/bayesianML/models/iter19/swag-300.pt',\n",
       " '/media/data_dump/Mohit/bayesianML/models/iter28/swag-300.pt',\n",
       " '/media/data_dump/Mohit/bayesianML/models/iter31/swag-300.pt',\n",
       " '/media/data_dump/Mohit/bayesianML/models/iter7/swag-300.pt',\n",
       " '/media/data_dump/Mohit/bayesianML/models/iter25/swag-300.pt',\n",
       " '/media/data_dump/Mohit/bayesianML/models/iter2/swag-300.pt',\n",
       " '/media/data_dump/Mohit/bayesianML/models/iter20/swag-300.pt',\n",
       " '/media/data_dump/Mohit/bayesianML/models/iter15/swag-300.pt',\n",
       " '/media/data_dump/Mohit/bayesianML/models/iter32/swag-300.pt',\n",
       " '/media/data_dump/Mohit/bayesianML/models/iter4/swag-300.pt',\n",
       " '/media/data_dump/Mohit/bayesianML/models/iter29/swag-300.pt',\n",
       " '/media/data_dump/Mohit/bayesianML/models/iter24/swag-300.pt',\n",
       " '/media/data_dump/Mohit/bayesianML/models/iter27/swag-300.pt',\n",
       " '/media/data_dump/Mohit/bayesianML/models/iter12/swag-300.pt',\n",
       " '/media/data_dump/Mohit/bayesianML/models/iter18/swag-300.pt',\n",
       " '/media/data_dump/Mohit/bayesianML/models/iter5/swag-300.pt',\n",
       " '/media/data_dump/Mohit/bayesianML/models/iter9/swag-300.pt',\n",
       " '/media/data_dump/Mohit/bayesianML/models/iter11/swag-300.pt',\n",
       " '/media/data_dump/Mohit/bayesianML/models/iter6/swag-300.pt',\n",
       " '/media/data_dump/Mohit/bayesianML/models/iter13/swag-300.pt',\n",
       " '/media/data_dump/Mohit/bayesianML/models/iter26/swag-300.pt',\n",
       " '/media/data_dump/Mohit/bayesianML/models/iter30/swag-300.pt',\n",
       " '/media/data_dump/Mohit/bayesianML/models/iter1/swag-300.pt',\n",
       " '/media/data_dump/Mohit/bayesianML/models/iter33/swag-300.pt',\n",
       " '/media/data_dump/Mohit/bayesianML/models/iter22/swag-300.pt',\n",
       " '/media/data_dump/Mohit/bayesianML/models/iter21/swag-300.pt',\n",
       " '/media/data_dump/Mohit/bayesianML/models/iter8/swag-300.pt']"
      ]
     },
     "execution_count": 3,
     "metadata": {},
     "output_type": "execute_result"
    }
   ],
   "source": [
    "swag_ckpts"
   ]
  },
  {
   "cell_type": "code",
   "execution_count": 4,
   "metadata": {},
   "outputs": [
    {
     "name": "stdout",
     "output_type": "stream",
     "text": [
      "Files already downloaded and verified\n",
      "You are going to run models on the test set. Are you sure?\n",
      "Files already downloaded and verified\n"
     ]
    }
   ],
   "source": [
    "loaders, num_classes = data.loaders(\n",
    "    dataset,\n",
    "    data_path,\n",
    "    batch_size,\n",
    "    num_workers,\n",
    "    model_cfg.transform_train,\n",
    "    model_cfg.transform_test,\n",
    "    use_validation=not use_test,\n",
    "    split_classes=None\n",
    "    )"
   ]
  },
  {
   "cell_type": "code",
   "execution_count": 5,
   "metadata": {},
   "outputs": [
    {
     "name": "stdout",
     "output_type": "stream",
     "text": [
      "Using Noisy Test set\n"
     ]
    }
   ],
   "source": [
    "print('Using Noisy Test set')\n",
    "corrupted_testset = np.load(\"/media/data_dump/Mohit/bayesianML/cifar-corrupted/motion_blur_5.npz\")\n",
    "loaders['test'].dataset.data = corrupted_testset[\"data\"]\n",
    "loaders['test'].dataset.targets = corrupted_testset[\"labels\"]"
   ]
  },
  {
   "cell_type": "code",
   "execution_count": 6,
   "metadata": {},
   "outputs": [],
   "source": [
    "if label_arr:\n",
    "    print(\"Using labels from {}\".format(label_arr))\n",
    "    label_arr = np.load(label_arr)\n",
    "    print(\"Corruption:\", (loaders['train'].dataset.targets != label_arr).mean())\n",
    "    loaders['train'].dataset.targets = label_arr"
   ]
  },
  {
   "cell_type": "code",
   "execution_count": 7,
   "metadata": {},
   "outputs": [
    {
     "name": "stdout",
     "output_type": "stream",
     "text": [
      "Preparing model\n",
      "Model has 272282 parameters\n"
     ]
    }
   ],
   "source": [
    "print('Preparing model')\n",
    "model = model_cfg.base(*model_cfg.args, num_classes=num_classes,\n",
    "                       **model_cfg.kwargs)\n",
    "model.to(device)\n",
    "print(\"Model has {} parameters\".format(sum([p.numel() for p in model.parameters()])))\n",
    "\n",
    "\n",
    "swag_model = SWAG(model_cfg.base,\n",
    "                subspace, {'max_rank': max_num_models},\n",
    "                *model_cfg.args, num_classes=num_classes,\n",
    "                **model_cfg.kwargs)\n",
    "swag_model.to(device)"
   ]
  },
  {
   "cell_type": "code",
   "execution_count": null,
   "metadata": {},
   "outputs": [],
   "source": [
    "from ax import load\n",
    "def getBoAcc(Pi, expPath):\n",
    "    experiment = load_experiment(expPath)\n",
    "    print(\"Computing for base case\")\n",
    "    # Base case = uniform weights for each SWAG and its models\n",
    "    swagCount = 0\n",
    "    for ckpt in swag_ckpts:\n",
    "        swagCount += 1\n",
    "    n_ensembled = 0.\n",
    "    multiswag_probs = None\n",
    "    for ckpt_i, ckpt in enumerate(swag_ckpts):\n",
    "        print(\"Checkpoint {}\".format(ckpt))\n",
    "        checkpoint = torch.load(ckpt)\n",
    "        swag_model.subspace.rank = torch.tensor(0)\n",
    "        swag_model.load_state_dict(checkpoint['state_dict'])\n",
    "\n",
    "        for sample in range(swag_samples):\n",
    "            swag_model.sample(.5)\n",
    "            utils.bn_update(loaders['train'], swag_model)\n",
    "            res = utils.predict(loaders['test'], swag_model)\n",
    "            probs = res['predictions']\n",
    "            targets = res['targets']\n",
    "            nll = utils.nll(probs, targets)\n",
    "            acc = utils.accuracy(probs, targets)\n",
    "\n",
    "            if multiswag_probs is None:\n",
    "                multiswag_probs = probs.copy()\n",
    "            else:\n",
    "                #TODO: rewrite in a numerically stable way\n",
    "                multiswag_probs +=  (probs - multiswag_probs)/ (n_ensembled + 1)\n",
    "            n_ensembled += 1\n",
    "\n",
    "            ens_nll = utils.nll(multiswag_probs, targets)\n",
    "            ens_acc = utils.accuracy(multiswag_probs, targets)\n",
    "            values = [ckpt_i, sample, nll, acc, ens_nll, ens_acc]\n",
    "            table = tabulate.tabulate([values], columns, tablefmt='simple', floatfmt='8.4f')\n",
    "            print(table)\n",
    "    initialPi = [1/swagCount]*swagCount\n",
    "    return (initialPi, ens_nll, ens_acc)"
   ]
  },
  {
   "cell_type": "code",
   "execution_count": 18,
   "metadata": {},
   "outputs": [],
   "source": [
    "def boSwag(Pi):\n",
    "    n_ensembled = 0.\n",
    "    multiswag_probs = None\n",
    "    for ckpt_i, ckpt in enumerate(swag_ckpts):\n",
    "        #print(\"Checkpoint {}\".format(ckpt))\n",
    "        checkpoint = torch.load(ckpt)\n",
    "        swag_model.subspace.rank = torch.tensor(0)\n",
    "        swag_model.load_state_dict(checkpoint['state_dict'])\n",
    "        #swagWeight = Pi[ckpt]\n",
    "        swagWeight = Pi[ckpt]/sum([Pi[i] for i in Pi])\n",
    "        indivWeight = swagWeight/swag_samples\n",
    "\n",
    "        for sample in range(swag_samples):\n",
    "            swag_model.sample(.5)\n",
    "            utils.bn_update(loaders['train'], swag_model)\n",
    "            res = utils.predict(loaders['test'], swag_model)\n",
    "            probs = res['predictions']\n",
    "            targets = res['targets']\n",
    "            nll = utils.nll(probs, targets)\n",
    "            acc = utils.accuracy(probs, targets)\n",
    "\n",
    "            if multiswag_probs is None:\n",
    "                multiswag_probs = indivWeight*probs.copy()\n",
    "            else:\n",
    "                #TODO: rewrite in a numerically stable way\n",
    "                #multiswag_probs +=  (probs - multiswag_probs)/ (n_ensembled + 1)\n",
    "                multiswag_probs += indivWeight*probs.copy()\n",
    "            n_ensembled += 1\n",
    "\n",
    "            ens_nll = utils.nll(multiswag_probs, targets)\n",
    "            ens_acc = utils.accuracy(multiswag_probs, targets)\n",
    "            values = [ckpt_i, sample, nll, acc, ens_nll, ens_acc]\n",
    "            #table = tabulate.tabulate([values], columns, tablefmt='simple', floatfmt='8.4f')\n",
    "            #print(table)\n",
    "    if useMetric == 'nll':\n",
    "        return ens_nll\n",
    "    else:\n",
    "        return -ens_acc"
   ]
  },
  {
   "cell_type": "code",
   "execution_count": 14,
   "metadata": {},
   "outputs": [],
   "source": [
    "Pi = {}\n",
    "for ckpt_i, ckpt in enumerate(swag_ckpts):\n",
    "    Pi[ckpt] = 0"
   ]
  },
  {
   "cell_type": "code",
   "execution_count": 15,
   "metadata": {},
   "outputs": [
    {
     "name": "stdout",
     "output_type": "stream",
     "text": [
      "Running Sobol initialization trials...\n",
      "Running GP+EI optimization trial 1/20...\n",
      "Running GP+EI optimization trial 2/20...\n",
      "Running GP+EI optimization trial 3/20...\n",
      "Running GP+EI optimization trial 4/20...\n",
      "Running GP+EI optimization trial 5/20...\n",
      "Running GP+EI optimization trial 6/20...\n",
      "Running GP+EI optimization trial 7/20...\n",
      "Running GP+EI optimization trial 8/20...\n",
      "Running GP+EI optimization trial 9/20...\n",
      "Running GP+EI optimization trial 10/20...\n",
      "Running GP+EI optimization trial 11/20...\n",
      "Running GP+EI optimization trial 12/20...\n",
      "Running GP+EI optimization trial 13/20...\n",
      "Running GP+EI optimization trial 14/20...\n",
      "Running GP+EI optimization trial 15/20...\n",
      "Running GP+EI optimization trial 16/20...\n",
      "Running GP+EI optimization trial 17/20...\n",
      "Running GP+EI optimization trial 18/20...\n",
      "Running GP+EI optimization trial 19/20...\n",
      "Running GP+EI optimization trial 20/20...\n",
      "<ax.core.data.Data object at 0x7f3419f890d0>\n",
      "Done!\n"
     ]
    }
   ],
   "source": [
    "# https://ax.dev/tutorials/gpei_hartmann_developer.html\n",
    "from ax import (\n",
    "    ComparisonOp,\n",
    "    ParameterType, \n",
    "    RangeParameter,\n",
    "    SearchSpace, \n",
    "    SimpleExperiment, \n",
    "    OutcomeConstraint,\n",
    "    SumConstraint\n",
    ")\n",
    "from ax.modelbridge.registry import Models\n",
    "\n",
    "parameters = []\n",
    "for i in Pi:\n",
    "    parameters.append(RangeParameter(name=i, parameter_type=ParameterType.FLOAT, lower=0.0, upper=1.0))\n",
    "#probCons = SumConstraint(parameters=[i for i in parameters], is_upper_bound=True, bound=1.0)\n",
    "\n",
    "#swagSearchSpace = SearchSpace(parameters=parameters, parameter_constraints=[probCons])\n",
    "swagSearchSpace = SearchSpace(parameters=parameters)\n",
    "\n",
    "exp = SimpleExperiment(\n",
    "    name=\"BO_SWAG\",\n",
    "    search_space=swagSearchSpace,\n",
    "    evaluation_function=boSwag,\n",
    "    objective_name=\"testSwag\",\n",
    "    minimize=True,\n",
    ")\n",
    "\n",
    "print(f\"Running Sobol initialization trials...\")\n",
    "sobol = Models.SOBOL(exp.search_space)\n",
    "for i in range(5):\n",
    "    exp.new_trial(generator_run=sobol.gen(1))\n",
    "    \n",
    "for i in range(20):\n",
    "    print(f\"Running GP+EI optimization trial {i+1}/20...\")\n",
    "    # Reinitialize GP+EI model at each step with updated data.\n",
    "    gpei = Models.BOTORCH(experiment=exp, data=exp.eval())\n",
    "    batch = exp.new_trial(generator_run=gpei.gen(1))\n",
    "\n",
    "print(exp.eval_trial(exp.trials[1]))\n",
    "print(\"Done!\")"
   ]
  },
  {
   "cell_type": "code",
   "execution_count": null,
   "metadata": {},
   "outputs": [],
   "source": []
  },
  {
   "cell_type": "code",
   "execution_count": 16,
   "metadata": {},
   "outputs": [
    {
     "data": {
      "application/vnd.plotly.v1+json": {
       "config": {
        "linkText": "Export to plot.ly",
        "plotlyServerURL": "https://plot.ly",
        "showLink": false
       },
       "data": [
        {
         "hoverinfo": "none",
         "legendgroup": "",
         "line": {
          "width": 0
         },
         "mode": "lines",
         "showlegend": false,
         "type": "scatter",
         "x": [
          1,
          2,
          3,
          4,
          5,
          6,
          7,
          8,
          9,
          10,
          11,
          12,
          13,
          14,
          15,
          16,
          17,
          18,
          19,
          20,
          21,
          22,
          23,
          24,
          25
         ],
         "y": [
          -0.7811,
          -0.7811,
          -0.7811,
          -0.7822,
          -0.7822,
          -0.7822,
          -0.7822,
          -0.7822,
          -0.7822,
          -0.7822,
          -0.7822,
          -0.7822,
          -0.7822,
          -0.7822,
          -0.78236,
          -0.78236,
          -0.78236,
          -0.78236,
          -0.78236,
          -0.78236,
          -0.78264,
          -0.78264,
          -0.78264,
          -0.78264,
          -0.78264
         ]
        },
        {
         "fill": "tonexty",
         "fillcolor": "rgba(128,177,211,0.3)",
         "legendgroup": "mean",
         "line": {
          "color": "rgba(128,177,211,1)"
         },
         "mode": "lines",
         "name": "mean",
         "type": "scatter",
         "x": [
          1,
          2,
          3,
          4,
          5,
          6,
          7,
          8,
          9,
          10,
          11,
          12,
          13,
          14,
          15,
          16,
          17,
          18,
          19,
          20,
          21,
          22,
          23,
          24,
          25
         ],
         "y": [
          -0.7811,
          -0.7811,
          -0.7811,
          -0.7822,
          -0.7822,
          -0.7822,
          -0.7822,
          -0.7822,
          -0.7822,
          -0.7822,
          -0.7822,
          -0.7822,
          -0.7822,
          -0.7822,
          -0.78236,
          -0.78236,
          -0.78236,
          -0.78236,
          -0.78236,
          -0.78236,
          -0.78264,
          -0.78264,
          -0.78264,
          -0.78264,
          -0.78264
         ]
        },
        {
         "fill": "tonexty",
         "fillcolor": "rgba(128,177,211,0.3)",
         "hoverinfo": "none",
         "legendgroup": "",
         "line": {
          "width": 0
         },
         "mode": "lines",
         "showlegend": false,
         "type": "scatter",
         "x": [
          1,
          2,
          3,
          4,
          5,
          6,
          7,
          8,
          9,
          10,
          11,
          12,
          13,
          14,
          15,
          16,
          17,
          18,
          19,
          20,
          21,
          22,
          23,
          24,
          25
         ],
         "y": [
          -0.7811,
          -0.7811,
          -0.7811,
          -0.7822,
          -0.7822,
          -0.7822,
          -0.7822,
          -0.7822,
          -0.7822,
          -0.7822,
          -0.7822,
          -0.7822,
          -0.7822,
          -0.7822,
          -0.78236,
          -0.78236,
          -0.78236,
          -0.78236,
          -0.78236,
          -0.78236,
          -0.78264,
          -0.78264,
          -0.78264,
          -0.78264,
          -0.78264
         ]
        },
        {
         "line": {
          "color": "rgba(253,180,98,1)",
          "dash": "dash"
         },
         "mode": "lines",
         "name": "Optimum",
         "type": "scatter",
         "x": [
          1,
          25
         ],
         "y": [
          -0.7813,
          -0.7813
         ]
        }
       ],
       "layout": {
        "showlegend": true,
        "template": {
         "data": {
          "bar": [
           {
            "error_x": {
             "color": "#2a3f5f"
            },
            "error_y": {
             "color": "#2a3f5f"
            },
            "marker": {
             "line": {
              "color": "#E5ECF6",
              "width": 0.5
             }
            },
            "type": "bar"
           }
          ],
          "barpolar": [
           {
            "marker": {
             "line": {
              "color": "#E5ECF6",
              "width": 0.5
             }
            },
            "type": "barpolar"
           }
          ],
          "carpet": [
           {
            "aaxis": {
             "endlinecolor": "#2a3f5f",
             "gridcolor": "white",
             "linecolor": "white",
             "minorgridcolor": "white",
             "startlinecolor": "#2a3f5f"
            },
            "baxis": {
             "endlinecolor": "#2a3f5f",
             "gridcolor": "white",
             "linecolor": "white",
             "minorgridcolor": "white",
             "startlinecolor": "#2a3f5f"
            },
            "type": "carpet"
           }
          ],
          "choropleth": [
           {
            "colorbar": {
             "outlinewidth": 0,
             "ticks": ""
            },
            "type": "choropleth"
           }
          ],
          "contour": [
           {
            "colorbar": {
             "outlinewidth": 0,
             "ticks": ""
            },
            "colorscale": [
             [
              0,
              "#0d0887"
             ],
             [
              0.1111111111111111,
              "#46039f"
             ],
             [
              0.2222222222222222,
              "#7201a8"
             ],
             [
              0.3333333333333333,
              "#9c179e"
             ],
             [
              0.4444444444444444,
              "#bd3786"
             ],
             [
              0.5555555555555556,
              "#d8576b"
             ],
             [
              0.6666666666666666,
              "#ed7953"
             ],
             [
              0.7777777777777778,
              "#fb9f3a"
             ],
             [
              0.8888888888888888,
              "#fdca26"
             ],
             [
              1,
              "#f0f921"
             ]
            ],
            "type": "contour"
           }
          ],
          "contourcarpet": [
           {
            "colorbar": {
             "outlinewidth": 0,
             "ticks": ""
            },
            "type": "contourcarpet"
           }
          ],
          "heatmap": [
           {
            "colorbar": {
             "outlinewidth": 0,
             "ticks": ""
            },
            "colorscale": [
             [
              0,
              "#0d0887"
             ],
             [
              0.1111111111111111,
              "#46039f"
             ],
             [
              0.2222222222222222,
              "#7201a8"
             ],
             [
              0.3333333333333333,
              "#9c179e"
             ],
             [
              0.4444444444444444,
              "#bd3786"
             ],
             [
              0.5555555555555556,
              "#d8576b"
             ],
             [
              0.6666666666666666,
              "#ed7953"
             ],
             [
              0.7777777777777778,
              "#fb9f3a"
             ],
             [
              0.8888888888888888,
              "#fdca26"
             ],
             [
              1,
              "#f0f921"
             ]
            ],
            "type": "heatmap"
           }
          ],
          "heatmapgl": [
           {
            "colorbar": {
             "outlinewidth": 0,
             "ticks": ""
            },
            "colorscale": [
             [
              0,
              "#0d0887"
             ],
             [
              0.1111111111111111,
              "#46039f"
             ],
             [
              0.2222222222222222,
              "#7201a8"
             ],
             [
              0.3333333333333333,
              "#9c179e"
             ],
             [
              0.4444444444444444,
              "#bd3786"
             ],
             [
              0.5555555555555556,
              "#d8576b"
             ],
             [
              0.6666666666666666,
              "#ed7953"
             ],
             [
              0.7777777777777778,
              "#fb9f3a"
             ],
             [
              0.8888888888888888,
              "#fdca26"
             ],
             [
              1,
              "#f0f921"
             ]
            ],
            "type": "heatmapgl"
           }
          ],
          "histogram": [
           {
            "marker": {
             "colorbar": {
              "outlinewidth": 0,
              "ticks": ""
             }
            },
            "type": "histogram"
           }
          ],
          "histogram2d": [
           {
            "colorbar": {
             "outlinewidth": 0,
             "ticks": ""
            },
            "colorscale": [
             [
              0,
              "#0d0887"
             ],
             [
              0.1111111111111111,
              "#46039f"
             ],
             [
              0.2222222222222222,
              "#7201a8"
             ],
             [
              0.3333333333333333,
              "#9c179e"
             ],
             [
              0.4444444444444444,
              "#bd3786"
             ],
             [
              0.5555555555555556,
              "#d8576b"
             ],
             [
              0.6666666666666666,
              "#ed7953"
             ],
             [
              0.7777777777777778,
              "#fb9f3a"
             ],
             [
              0.8888888888888888,
              "#fdca26"
             ],
             [
              1,
              "#f0f921"
             ]
            ],
            "type": "histogram2d"
           }
          ],
          "histogram2dcontour": [
           {
            "colorbar": {
             "outlinewidth": 0,
             "ticks": ""
            },
            "colorscale": [
             [
              0,
              "#0d0887"
             ],
             [
              0.1111111111111111,
              "#46039f"
             ],
             [
              0.2222222222222222,
              "#7201a8"
             ],
             [
              0.3333333333333333,
              "#9c179e"
             ],
             [
              0.4444444444444444,
              "#bd3786"
             ],
             [
              0.5555555555555556,
              "#d8576b"
             ],
             [
              0.6666666666666666,
              "#ed7953"
             ],
             [
              0.7777777777777778,
              "#fb9f3a"
             ],
             [
              0.8888888888888888,
              "#fdca26"
             ],
             [
              1,
              "#f0f921"
             ]
            ],
            "type": "histogram2dcontour"
           }
          ],
          "mesh3d": [
           {
            "colorbar": {
             "outlinewidth": 0,
             "ticks": ""
            },
            "type": "mesh3d"
           }
          ],
          "parcoords": [
           {
            "line": {
             "colorbar": {
              "outlinewidth": 0,
              "ticks": ""
             }
            },
            "type": "parcoords"
           }
          ],
          "pie": [
           {
            "automargin": true,
            "type": "pie"
           }
          ],
          "scatter": [
           {
            "marker": {
             "colorbar": {
              "outlinewidth": 0,
              "ticks": ""
             }
            },
            "type": "scatter"
           }
          ],
          "scatter3d": [
           {
            "line": {
             "colorbar": {
              "outlinewidth": 0,
              "ticks": ""
             }
            },
            "marker": {
             "colorbar": {
              "outlinewidth": 0,
              "ticks": ""
             }
            },
            "type": "scatter3d"
           }
          ],
          "scattercarpet": [
           {
            "marker": {
             "colorbar": {
              "outlinewidth": 0,
              "ticks": ""
             }
            },
            "type": "scattercarpet"
           }
          ],
          "scattergeo": [
           {
            "marker": {
             "colorbar": {
              "outlinewidth": 0,
              "ticks": ""
             }
            },
            "type": "scattergeo"
           }
          ],
          "scattergl": [
           {
            "marker": {
             "colorbar": {
              "outlinewidth": 0,
              "ticks": ""
             }
            },
            "type": "scattergl"
           }
          ],
          "scattermapbox": [
           {
            "marker": {
             "colorbar": {
              "outlinewidth": 0,
              "ticks": ""
             }
            },
            "type": "scattermapbox"
           }
          ],
          "scatterpolar": [
           {
            "marker": {
             "colorbar": {
              "outlinewidth": 0,
              "ticks": ""
             }
            },
            "type": "scatterpolar"
           }
          ],
          "scatterpolargl": [
           {
            "marker": {
             "colorbar": {
              "outlinewidth": 0,
              "ticks": ""
             }
            },
            "type": "scatterpolargl"
           }
          ],
          "scatterternary": [
           {
            "marker": {
             "colorbar": {
              "outlinewidth": 0,
              "ticks": ""
             }
            },
            "type": "scatterternary"
           }
          ],
          "surface": [
           {
            "colorbar": {
             "outlinewidth": 0,
             "ticks": ""
            },
            "colorscale": [
             [
              0,
              "#0d0887"
             ],
             [
              0.1111111111111111,
              "#46039f"
             ],
             [
              0.2222222222222222,
              "#7201a8"
             ],
             [
              0.3333333333333333,
              "#9c179e"
             ],
             [
              0.4444444444444444,
              "#bd3786"
             ],
             [
              0.5555555555555556,
              "#d8576b"
             ],
             [
              0.6666666666666666,
              "#ed7953"
             ],
             [
              0.7777777777777778,
              "#fb9f3a"
             ],
             [
              0.8888888888888888,
              "#fdca26"
             ],
             [
              1,
              "#f0f921"
             ]
            ],
            "type": "surface"
           }
          ],
          "table": [
           {
            "cells": {
             "fill": {
              "color": "#EBF0F8"
             },
             "line": {
              "color": "white"
             }
            },
            "header": {
             "fill": {
              "color": "#C8D4E3"
             },
             "line": {
              "color": "white"
             }
            },
            "type": "table"
           }
          ]
         },
         "layout": {
          "annotationdefaults": {
           "arrowcolor": "#2a3f5f",
           "arrowhead": 0,
           "arrowwidth": 1
          },
          "autotypenumbers": "strict",
          "coloraxis": {
           "colorbar": {
            "outlinewidth": 0,
            "ticks": ""
           }
          },
          "colorscale": {
           "diverging": [
            [
             0,
             "#8e0152"
            ],
            [
             0.1,
             "#c51b7d"
            ],
            [
             0.2,
             "#de77ae"
            ],
            [
             0.3,
             "#f1b6da"
            ],
            [
             0.4,
             "#fde0ef"
            ],
            [
             0.5,
             "#f7f7f7"
            ],
            [
             0.6,
             "#e6f5d0"
            ],
            [
             0.7,
             "#b8e186"
            ],
            [
             0.8,
             "#7fbc41"
            ],
            [
             0.9,
             "#4d9221"
            ],
            [
             1,
             "#276419"
            ]
           ],
           "sequential": [
            [
             0,
             "#0d0887"
            ],
            [
             0.1111111111111111,
             "#46039f"
            ],
            [
             0.2222222222222222,
             "#7201a8"
            ],
            [
             0.3333333333333333,
             "#9c179e"
            ],
            [
             0.4444444444444444,
             "#bd3786"
            ],
            [
             0.5555555555555556,
             "#d8576b"
            ],
            [
             0.6666666666666666,
             "#ed7953"
            ],
            [
             0.7777777777777778,
             "#fb9f3a"
            ],
            [
             0.8888888888888888,
             "#fdca26"
            ],
            [
             1,
             "#f0f921"
            ]
           ],
           "sequentialminus": [
            [
             0,
             "#0d0887"
            ],
            [
             0.1111111111111111,
             "#46039f"
            ],
            [
             0.2222222222222222,
             "#7201a8"
            ],
            [
             0.3333333333333333,
             "#9c179e"
            ],
            [
             0.4444444444444444,
             "#bd3786"
            ],
            [
             0.5555555555555556,
             "#d8576b"
            ],
            [
             0.6666666666666666,
             "#ed7953"
            ],
            [
             0.7777777777777778,
             "#fb9f3a"
            ],
            [
             0.8888888888888888,
             "#fdca26"
            ],
            [
             1,
             "#f0f921"
            ]
           ]
          },
          "colorway": [
           "#636efa",
           "#EF553B",
           "#00cc96",
           "#ab63fa",
           "#FFA15A",
           "#19d3f3",
           "#FF6692",
           "#B6E880",
           "#FF97FF",
           "#FECB52"
          ],
          "font": {
           "color": "#2a3f5f"
          },
          "geo": {
           "bgcolor": "white",
           "lakecolor": "white",
           "landcolor": "#E5ECF6",
           "showlakes": true,
           "showland": true,
           "subunitcolor": "white"
          },
          "hoverlabel": {
           "align": "left"
          },
          "hovermode": "closest",
          "mapbox": {
           "style": "light"
          },
          "paper_bgcolor": "white",
          "plot_bgcolor": "#E5ECF6",
          "polar": {
           "angularaxis": {
            "gridcolor": "white",
            "linecolor": "white",
            "ticks": ""
           },
           "bgcolor": "#E5ECF6",
           "radialaxis": {
            "gridcolor": "white",
            "linecolor": "white",
            "ticks": ""
           }
          },
          "scene": {
           "xaxis": {
            "backgroundcolor": "#E5ECF6",
            "gridcolor": "white",
            "gridwidth": 2,
            "linecolor": "white",
            "showbackground": true,
            "ticks": "",
            "zerolinecolor": "white"
           },
           "yaxis": {
            "backgroundcolor": "#E5ECF6",
            "gridcolor": "white",
            "gridwidth": 2,
            "linecolor": "white",
            "showbackground": true,
            "ticks": "",
            "zerolinecolor": "white"
           },
           "zaxis": {
            "backgroundcolor": "#E5ECF6",
            "gridcolor": "white",
            "gridwidth": 2,
            "linecolor": "white",
            "showbackground": true,
            "ticks": "",
            "zerolinecolor": "white"
           }
          },
          "shapedefaults": {
           "line": {
            "color": "#2a3f5f"
           }
          },
          "ternary": {
           "aaxis": {
            "gridcolor": "white",
            "linecolor": "white",
            "ticks": ""
           },
           "baxis": {
            "gridcolor": "white",
            "linecolor": "white",
            "ticks": ""
           },
           "bgcolor": "#E5ECF6",
           "caxis": {
            "gridcolor": "white",
            "linecolor": "white",
            "ticks": ""
           }
          },
          "title": {
           "x": 0.05
          },
          "xaxis": {
           "automargin": true,
           "gridcolor": "white",
           "linecolor": "white",
           "ticks": "",
           "title": {
            "standoff": 15
           },
           "zerolinecolor": "white",
           "zerolinewidth": 2
          },
          "yaxis": {
           "automargin": true,
           "gridcolor": "white",
           "linecolor": "white",
           "ticks": "",
           "title": {
            "standoff": 15
           },
           "zerolinecolor": "white",
           "zerolinewidth": 2
          }
         }
        },
        "title": {
         "text": ""
        },
        "xaxis": {
         "title": {
          "text": "Iteration"
         }
        },
        "yaxis": {
         "title": {
          "text": ""
         }
        }
       }
      },
      "text/html": [
       "<div>                            <div id=\"2baeda2a-2b14-4096-9eb9-89730d6b1dcd\" class=\"plotly-graph-div\" style=\"height:525px; width:100%;\"></div>            <script type=\"text/javascript\">                require([\"plotly\"], function(Plotly) {                    window.PLOTLYENV=window.PLOTLYENV || {};                                    if (document.getElementById(\"2baeda2a-2b14-4096-9eb9-89730d6b1dcd\")) {                    Plotly.newPlot(                        \"2baeda2a-2b14-4096-9eb9-89730d6b1dcd\",                        [{\"hoverinfo\": \"none\", \"legendgroup\": \"\", \"line\": {\"width\": 0}, \"mode\": \"lines\", \"showlegend\": false, \"type\": \"scatter\", \"x\": [1, 2, 3, 4, 5, 6, 7, 8, 9, 10, 11, 12, 13, 14, 15, 16, 17, 18, 19, 20, 21, 22, 23, 24, 25], \"y\": [-0.7811, -0.7811, -0.7811, -0.7822, -0.7822, -0.7822, -0.7822, -0.7822, -0.7822, -0.7822, -0.7822, -0.7822, -0.7822, -0.7822, -0.78236, -0.78236, -0.78236, -0.78236, -0.78236, -0.78236, -0.78264, -0.78264, -0.78264, -0.78264, -0.78264]}, {\"fill\": \"tonexty\", \"fillcolor\": \"rgba(128,177,211,0.3)\", \"legendgroup\": \"mean\", \"line\": {\"color\": \"rgba(128,177,211,1)\"}, \"mode\": \"lines\", \"name\": \"mean\", \"type\": \"scatter\", \"x\": [1, 2, 3, 4, 5, 6, 7, 8, 9, 10, 11, 12, 13, 14, 15, 16, 17, 18, 19, 20, 21, 22, 23, 24, 25], \"y\": [-0.7811, -0.7811, -0.7811, -0.7822, -0.7822, -0.7822, -0.7822, -0.7822, -0.7822, -0.7822, -0.7822, -0.7822, -0.7822, -0.7822, -0.78236, -0.78236, -0.78236, -0.78236, -0.78236, -0.78236, -0.78264, -0.78264, -0.78264, -0.78264, -0.78264]}, {\"fill\": \"tonexty\", \"fillcolor\": \"rgba(128,177,211,0.3)\", \"hoverinfo\": \"none\", \"legendgroup\": \"\", \"line\": {\"width\": 0}, \"mode\": \"lines\", \"showlegend\": false, \"type\": \"scatter\", \"x\": [1, 2, 3, 4, 5, 6, 7, 8, 9, 10, 11, 12, 13, 14, 15, 16, 17, 18, 19, 20, 21, 22, 23, 24, 25], \"y\": [-0.7811, -0.7811, -0.7811, -0.7822, -0.7822, -0.7822, -0.7822, -0.7822, -0.7822, -0.7822, -0.7822, -0.7822, -0.7822, -0.7822, -0.78236, -0.78236, -0.78236, -0.78236, -0.78236, -0.78236, -0.78264, -0.78264, -0.78264, -0.78264, -0.78264]}, {\"line\": {\"color\": \"rgba(253,180,98,1)\", \"dash\": \"dash\"}, \"mode\": \"lines\", \"name\": \"Optimum\", \"type\": \"scatter\", \"x\": [1, 25], \"y\": [-0.7813, -0.7813]}],                        {\"showlegend\": true, \"template\": {\"data\": {\"bar\": [{\"error_x\": {\"color\": \"#2a3f5f\"}, \"error_y\": {\"color\": \"#2a3f5f\"}, \"marker\": {\"line\": {\"color\": \"#E5ECF6\", \"width\": 0.5}}, \"type\": \"bar\"}], \"barpolar\": [{\"marker\": {\"line\": {\"color\": \"#E5ECF6\", \"width\": 0.5}}, \"type\": \"barpolar\"}], \"carpet\": [{\"aaxis\": {\"endlinecolor\": \"#2a3f5f\", \"gridcolor\": \"white\", \"linecolor\": \"white\", \"minorgridcolor\": \"white\", \"startlinecolor\": \"#2a3f5f\"}, \"baxis\": {\"endlinecolor\": \"#2a3f5f\", \"gridcolor\": \"white\", \"linecolor\": \"white\", \"minorgridcolor\": \"white\", \"startlinecolor\": \"#2a3f5f\"}, \"type\": \"carpet\"}], \"choropleth\": [{\"colorbar\": {\"outlinewidth\": 0, \"ticks\": \"\"}, \"type\": \"choropleth\"}], \"contour\": [{\"colorbar\": {\"outlinewidth\": 0, \"ticks\": \"\"}, \"colorscale\": [[0.0, \"#0d0887\"], [0.1111111111111111, \"#46039f\"], [0.2222222222222222, \"#7201a8\"], [0.3333333333333333, \"#9c179e\"], [0.4444444444444444, \"#bd3786\"], [0.5555555555555556, \"#d8576b\"], [0.6666666666666666, \"#ed7953\"], [0.7777777777777778, \"#fb9f3a\"], [0.8888888888888888, \"#fdca26\"], [1.0, \"#f0f921\"]], \"type\": \"contour\"}], \"contourcarpet\": [{\"colorbar\": {\"outlinewidth\": 0, \"ticks\": \"\"}, \"type\": \"contourcarpet\"}], \"heatmap\": [{\"colorbar\": {\"outlinewidth\": 0, \"ticks\": \"\"}, \"colorscale\": [[0.0, \"#0d0887\"], [0.1111111111111111, \"#46039f\"], [0.2222222222222222, \"#7201a8\"], [0.3333333333333333, \"#9c179e\"], [0.4444444444444444, \"#bd3786\"], [0.5555555555555556, \"#d8576b\"], [0.6666666666666666, \"#ed7953\"], [0.7777777777777778, \"#fb9f3a\"], [0.8888888888888888, \"#fdca26\"], [1.0, \"#f0f921\"]], \"type\": \"heatmap\"}], \"heatmapgl\": [{\"colorbar\": {\"outlinewidth\": 0, \"ticks\": \"\"}, \"colorscale\": [[0.0, \"#0d0887\"], [0.1111111111111111, \"#46039f\"], [0.2222222222222222, \"#7201a8\"], [0.3333333333333333, \"#9c179e\"], [0.4444444444444444, \"#bd3786\"], [0.5555555555555556, \"#d8576b\"], [0.6666666666666666, \"#ed7953\"], [0.7777777777777778, \"#fb9f3a\"], [0.8888888888888888, \"#fdca26\"], [1.0, \"#f0f921\"]], \"type\": \"heatmapgl\"}], \"histogram\": [{\"marker\": {\"colorbar\": {\"outlinewidth\": 0, \"ticks\": \"\"}}, \"type\": \"histogram\"}], \"histogram2d\": [{\"colorbar\": {\"outlinewidth\": 0, \"ticks\": \"\"}, \"colorscale\": [[0.0, \"#0d0887\"], [0.1111111111111111, \"#46039f\"], [0.2222222222222222, \"#7201a8\"], [0.3333333333333333, \"#9c179e\"], [0.4444444444444444, \"#bd3786\"], [0.5555555555555556, \"#d8576b\"], [0.6666666666666666, \"#ed7953\"], [0.7777777777777778, \"#fb9f3a\"], [0.8888888888888888, \"#fdca26\"], [1.0, \"#f0f921\"]], \"type\": \"histogram2d\"}], \"histogram2dcontour\": [{\"colorbar\": {\"outlinewidth\": 0, \"ticks\": \"\"}, \"colorscale\": [[0.0, \"#0d0887\"], [0.1111111111111111, \"#46039f\"], [0.2222222222222222, \"#7201a8\"], [0.3333333333333333, \"#9c179e\"], [0.4444444444444444, \"#bd3786\"], [0.5555555555555556, \"#d8576b\"], [0.6666666666666666, \"#ed7953\"], [0.7777777777777778, \"#fb9f3a\"], [0.8888888888888888, \"#fdca26\"], [1.0, \"#f0f921\"]], \"type\": \"histogram2dcontour\"}], \"mesh3d\": [{\"colorbar\": {\"outlinewidth\": 0, \"ticks\": \"\"}, \"type\": \"mesh3d\"}], \"parcoords\": [{\"line\": {\"colorbar\": {\"outlinewidth\": 0, \"ticks\": \"\"}}, \"type\": \"parcoords\"}], \"pie\": [{\"automargin\": true, \"type\": \"pie\"}], \"scatter\": [{\"marker\": {\"colorbar\": {\"outlinewidth\": 0, \"ticks\": \"\"}}, \"type\": \"scatter\"}], \"scatter3d\": [{\"line\": {\"colorbar\": {\"outlinewidth\": 0, \"ticks\": \"\"}}, \"marker\": {\"colorbar\": {\"outlinewidth\": 0, \"ticks\": \"\"}}, \"type\": \"scatter3d\"}], \"scattercarpet\": [{\"marker\": {\"colorbar\": {\"outlinewidth\": 0, \"ticks\": \"\"}}, \"type\": \"scattercarpet\"}], \"scattergeo\": [{\"marker\": {\"colorbar\": {\"outlinewidth\": 0, \"ticks\": \"\"}}, \"type\": \"scattergeo\"}], \"scattergl\": [{\"marker\": {\"colorbar\": {\"outlinewidth\": 0, \"ticks\": \"\"}}, \"type\": \"scattergl\"}], \"scattermapbox\": [{\"marker\": {\"colorbar\": {\"outlinewidth\": 0, \"ticks\": \"\"}}, \"type\": \"scattermapbox\"}], \"scatterpolar\": [{\"marker\": {\"colorbar\": {\"outlinewidth\": 0, \"ticks\": \"\"}}, \"type\": \"scatterpolar\"}], \"scatterpolargl\": [{\"marker\": {\"colorbar\": {\"outlinewidth\": 0, \"ticks\": \"\"}}, \"type\": \"scatterpolargl\"}], \"scatterternary\": [{\"marker\": {\"colorbar\": {\"outlinewidth\": 0, \"ticks\": \"\"}}, \"type\": \"scatterternary\"}], \"surface\": [{\"colorbar\": {\"outlinewidth\": 0, \"ticks\": \"\"}, \"colorscale\": [[0.0, \"#0d0887\"], [0.1111111111111111, \"#46039f\"], [0.2222222222222222, \"#7201a8\"], [0.3333333333333333, \"#9c179e\"], [0.4444444444444444, \"#bd3786\"], [0.5555555555555556, \"#d8576b\"], [0.6666666666666666, \"#ed7953\"], [0.7777777777777778, \"#fb9f3a\"], [0.8888888888888888, \"#fdca26\"], [1.0, \"#f0f921\"]], \"type\": \"surface\"}], \"table\": [{\"cells\": {\"fill\": {\"color\": \"#EBF0F8\"}, \"line\": {\"color\": \"white\"}}, \"header\": {\"fill\": {\"color\": \"#C8D4E3\"}, \"line\": {\"color\": \"white\"}}, \"type\": \"table\"}]}, \"layout\": {\"annotationdefaults\": {\"arrowcolor\": \"#2a3f5f\", \"arrowhead\": 0, \"arrowwidth\": 1}, \"autotypenumbers\": \"strict\", \"coloraxis\": {\"colorbar\": {\"outlinewidth\": 0, \"ticks\": \"\"}}, \"colorscale\": {\"diverging\": [[0, \"#8e0152\"], [0.1, \"#c51b7d\"], [0.2, \"#de77ae\"], [0.3, \"#f1b6da\"], [0.4, \"#fde0ef\"], [0.5, \"#f7f7f7\"], [0.6, \"#e6f5d0\"], [0.7, \"#b8e186\"], [0.8, \"#7fbc41\"], [0.9, \"#4d9221\"], [1, \"#276419\"]], \"sequential\": [[0.0, \"#0d0887\"], [0.1111111111111111, \"#46039f\"], [0.2222222222222222, \"#7201a8\"], [0.3333333333333333, \"#9c179e\"], [0.4444444444444444, \"#bd3786\"], [0.5555555555555556, \"#d8576b\"], [0.6666666666666666, \"#ed7953\"], [0.7777777777777778, \"#fb9f3a\"], [0.8888888888888888, \"#fdca26\"], [1.0, \"#f0f921\"]], \"sequentialminus\": [[0.0, \"#0d0887\"], [0.1111111111111111, \"#46039f\"], [0.2222222222222222, \"#7201a8\"], [0.3333333333333333, \"#9c179e\"], [0.4444444444444444, \"#bd3786\"], [0.5555555555555556, \"#d8576b\"], [0.6666666666666666, \"#ed7953\"], [0.7777777777777778, \"#fb9f3a\"], [0.8888888888888888, \"#fdca26\"], [1.0, \"#f0f921\"]]}, \"colorway\": [\"#636efa\", \"#EF553B\", \"#00cc96\", \"#ab63fa\", \"#FFA15A\", \"#19d3f3\", \"#FF6692\", \"#B6E880\", \"#FF97FF\", \"#FECB52\"], \"font\": {\"color\": \"#2a3f5f\"}, \"geo\": {\"bgcolor\": \"white\", \"lakecolor\": \"white\", \"landcolor\": \"#E5ECF6\", \"showlakes\": true, \"showland\": true, \"subunitcolor\": \"white\"}, \"hoverlabel\": {\"align\": \"left\"}, \"hovermode\": \"closest\", \"mapbox\": {\"style\": \"light\"}, \"paper_bgcolor\": \"white\", \"plot_bgcolor\": \"#E5ECF6\", \"polar\": {\"angularaxis\": {\"gridcolor\": \"white\", \"linecolor\": \"white\", \"ticks\": \"\"}, \"bgcolor\": \"#E5ECF6\", \"radialaxis\": {\"gridcolor\": \"white\", \"linecolor\": \"white\", \"ticks\": \"\"}}, \"scene\": {\"xaxis\": {\"backgroundcolor\": \"#E5ECF6\", \"gridcolor\": \"white\", \"gridwidth\": 2, \"linecolor\": \"white\", \"showbackground\": true, \"ticks\": \"\", \"zerolinecolor\": \"white\"}, \"yaxis\": {\"backgroundcolor\": \"#E5ECF6\", \"gridcolor\": \"white\", \"gridwidth\": 2, \"linecolor\": \"white\", \"showbackground\": true, \"ticks\": \"\", \"zerolinecolor\": \"white\"}, \"zaxis\": {\"backgroundcolor\": \"#E5ECF6\", \"gridcolor\": \"white\", \"gridwidth\": 2, \"linecolor\": \"white\", \"showbackground\": true, \"ticks\": \"\", \"zerolinecolor\": \"white\"}}, \"shapedefaults\": {\"line\": {\"color\": \"#2a3f5f\"}}, \"ternary\": {\"aaxis\": {\"gridcolor\": \"white\", \"linecolor\": \"white\", \"ticks\": \"\"}, \"baxis\": {\"gridcolor\": \"white\", \"linecolor\": \"white\", \"ticks\": \"\"}, \"bgcolor\": \"#E5ECF6\", \"caxis\": {\"gridcolor\": \"white\", \"linecolor\": \"white\", \"ticks\": \"\"}}, \"title\": {\"x\": 0.05}, \"xaxis\": {\"automargin\": true, \"gridcolor\": \"white\", \"linecolor\": \"white\", \"ticks\": \"\", \"title\": {\"standoff\": 15}, \"zerolinecolor\": \"white\", \"zerolinewidth\": 2}, \"yaxis\": {\"automargin\": true, \"gridcolor\": \"white\", \"linecolor\": \"white\", \"ticks\": \"\", \"title\": {\"standoff\": 15}, \"zerolinecolor\": \"white\", \"zerolinewidth\": 2}}}, \"title\": {\"text\": \"\"}, \"xaxis\": {\"title\": {\"text\": \"Iteration\"}}, \"yaxis\": {\"title\": {\"text\": \"\"}}},                        {\"responsive\": true}                    ).then(function(){\n",
       "                            \n",
       "var gd = document.getElementById('2baeda2a-2b14-4096-9eb9-89730d6b1dcd');\n",
       "var x = new MutationObserver(function (mutations, observer) {{\n",
       "        var display = window.getComputedStyle(gd).display;\n",
       "        if (!display || display === 'none') {{\n",
       "            console.log([gd, 'removed!']);\n",
       "            Plotly.purge(gd);\n",
       "            observer.disconnect();\n",
       "        }}\n",
       "}});\n",
       "\n",
       "// Listen for the removal of the full notebook cells\n",
       "var notebookContainer = gd.closest('#notebook-container');\n",
       "if (notebookContainer) {{\n",
       "    x.observe(notebookContainer, {childList: true});\n",
       "}}\n",
       "\n",
       "// Listen for the clearing of the current output cell\n",
       "var outputEl = gd.closest('.output');\n",
       "if (outputEl) {{\n",
       "    x.observe(outputEl, {childList: true});\n",
       "}}\n",
       "\n",
       "                        })                };                });            </script>        </div>"
      ]
     },
     "metadata": {},
     "output_type": "display_data"
    }
   ],
   "source": [
    "from ax.plot.trace import optimization_trace_single_method\n",
    "from ax.utils.notebook.plotting import render, init_notebook_plotting\n",
    "\n",
    "objective_means = np.array([[trial.objective_mean for trial in exp.trials.values()]])\n",
    "best_objective_plot = optimization_trace_single_method(\n",
    "        y=np.minimum.accumulate(objective_means, axis=1),\n",
    "        optimum=-0.7813,  # Known minimum objective for Hartmann6 function.\n",
    ")\n",
    "render(best_objective_plot)"
   ]
  },
  {
   "cell_type": "code",
   "execution_count": 17,
   "metadata": {},
   "outputs": [],
   "source": [
    "from ax import save\n",
    "save(exp, '/home/mohit/boLogs/cifar10corruptedAcc.json')"
   ]
  },
  {
   "cell_type": "code",
   "execution_count": 19,
   "metadata": {},
   "outputs": [
    {
     "data": {
      "text/plain": [
       "array([[-0.7811 , -0.77922, -0.77842, -0.7822 , -0.78084, -0.77642,\n",
       "        -0.77922, -0.77856, -0.78052, -0.78124, -0.7806 , -0.77862,\n",
       "        -0.77956, -0.78134, -0.78236, -0.77854, -0.7808 , -0.78002,\n",
       "        -0.78082, -0.7766 , -0.78264, -0.77988, -0.781  , -0.78076,\n",
       "        -0.78066]])"
      ]
     },
     "execution_count": 19,
     "metadata": {},
     "output_type": "execute_result"
    }
   ],
   "source": [
    "objective_means"
   ]
  },
  {
   "cell_type": "code",
   "execution_count": 65,
   "metadata": {},
   "outputs": [],
   "source": [
    "def getCurrAcc(Pi):\n",
    "    # Constraints may sum to greater than 1\n",
    "    Pi = Pi/sum(Pi)\n",
    "    swagCount = 0\n",
    "    for ckpt in swag_ckpts:\n",
    "        swagCount += 1\n",
    "    n_ensembled = 0.\n",
    "    multiswag_probs = None\n",
    "    for ckpt_i, ckpt in enumerate(swag_ckpts):\n",
    "        #print(\"Checkpoint {}\".format(ckpt))\n",
    "        checkpoint = torch.load(ckpt)\n",
    "        swag_model.subspace.rank = torch.tensor(0)\n",
    "        swag_model.load_state_dict(checkpoint['state_dict'])\n",
    "        swagWeight = Pi[ckpt_i]\n",
    "        indivWeight = swagWeight/swag_samples\n",
    "\n",
    "        for sample in range(swag_samples):\n",
    "            swag_model.sample(.5)\n",
    "            utils.bn_update(loaders['train'], swag_model)\n",
    "            res = utils.predict(loaders['test'], swag_model)\n",
    "            probs = res['predictions']\n",
    "            targets = res['targets']\n",
    "            nll = utils.nll(probs, targets)\n",
    "            acc = utils.accuracy(probs, targets)\n",
    "\n",
    "            if multiswag_probs is None:\n",
    "                #multiswag_probs = probs.copy()\n",
    "                multiswag_probs = indivWeight*probs.copy()\n",
    "            else:\n",
    "                #TODO: rewrite in a numerically stable way\n",
    "                multiswag_probs += indivWeight*probs.copy()\n",
    "                #multiswag_probs +=  (probs - multiswag_probs)/ (n_ensembled + 1)\n",
    "            n_ensembled += 1\n",
    "\n",
    "            ens_nll = utils.nll(multiswag_probs, targets)\n",
    "            ens_acc = utils.accuracy(multiswag_probs, targets)\n",
    "            values = [ckpt_i, sample, nll, acc, ens_nll, ens_acc]\n",
    "            table = tabulate.tabulate([values], columns, tablefmt='simple', floatfmt='8.4f')\n",
    "            print(table)\n",
    "    initialPi = [1/swagCount]*swagCount\n",
    "    return ens_nll"
   ]
  },
  {
   "cell_type": "code",
   "execution_count": null,
   "metadata": {},
   "outputs": [],
   "source": []
  },
  {
   "cell_type": "code",
   "execution_count": 66,
   "metadata": {},
   "outputs": [],
   "source": [
    "# from torch.multiprocessing import Pool, Process, set_start_method\n",
    "# try:\n",
    "#      set_start_method('spawn', force=True)\n",
    "# except RuntimeError:\n",
    "#     pass"
   ]
  },
  {
   "cell_type": "code",
   "execution_count": 67,
   "metadata": {},
   "outputs": [],
   "source": [
    "# \"\"\"from scipy.optimize import minimize\n",
    "# cons = ({'type': 'eq',\n",
    "#          'fun' : lambda x: np.array([sum(x) - 1])})\n",
    "\n",
    "# res = minimize(getCurrAcc, initialGuess, constraints=cons, ver)\"\"\"\n",
    "# import black_box as bb\n",
    "\n",
    "# best_params = bb.search_min(f = getCurrAcc,domain = [[0.0, 1.0]]*len(swag_ckpts), budget = 80, batch = 10, resfile = 'output.csv')"
   ]
  },
  {
   "cell_type": "code",
   "execution_count": 76,
   "metadata": {},
   "outputs": [],
   "source": [
    "# import numpy.random\n",
    "# #initialGuess = numpy.random.sample(len(swag_ckpts))\n",
    "# temp = np.random.dirichlet(np.ones(len(swag_ckpts)),size=1)\n",
    "# #initialGuess = initialGuess/sum(initialGuess)"
   ]
  },
  {
   "cell_type": "code",
   "execution_count": 77,
   "metadata": {},
   "outputs": [],
   "source": [
    "from ax import load\n",
    "exp = load('/home/mohit/boLogs/cifar10normal.json')"
   ]
  },
  {
   "cell_type": "code",
   "execution_count": 83,
   "metadata": {},
   "outputs": [],
   "source": [
    "objective_means = np.array([[trial.objective_mean for trial in exp.trials.values()]])"
   ]
  },
  {
   "cell_type": "code",
   "execution_count": 95,
   "metadata": {},
   "outputs": [
    {
     "name": "stdout",
     "output_type": "stream",
     "text": [
      "['__class__', '__delattr__', '__dir__', '__eq__', '__format__', '__ge__', '__getattribute__', '__gt__', '__init__', '__init_subclass__', '__le__', '__lt__', '__ne__', '__new__', '__reduce__', '__reduce_ex__', '__repr__', '__setattr__', '__sizeof__', '__str__', '__subclasshook__', '_check_existing_and_name_arm', '_get_candidate_metadata', '_get_candidate_metadata_from_all_generator_runs', '_mark_failed_if_past_TTL', '_set_generation_step_index', 'add_arm', 'add_generator_run', 'assign_runner', 'complete', 'fetch_data', 'get_metric_mean', 'mark_abandoned', 'mark_as', 'mark_completed', 'mark_failed', 'mark_running', 'mark_staged', 'run', 'update_run_metadata']\n"
     ]
    }
   ],
   "source": [
    "import inspect\n",
    "for i in exp.trials.values():\n",
    "    method_list = [func for func in dir(i) if callable(getattr(i, func))]\n",
    "    #print(inspect.getmembers(i, predicate=inspect.ismethod))\n",
    "    print(method_list)\n",
    "    break"
   ]
  },
  {
   "cell_type": "code",
   "execution_count": null,
   "metadata": {},
   "outputs": [],
   "source": []
  },
  {
   "cell_type": "code",
   "execution_count": null,
   "metadata": {},
   "outputs": [],
   "source": []
  },
  {
   "cell_type": "code",
   "execution_count": null,
   "metadata": {},
   "outputs": [],
   "source": []
  }
 ],
 "metadata": {
  "kernelspec": {
   "display_name": "Python 3",
   "language": "python",
   "name": "python3"
  },
  "language_info": {
   "codemirror_mode": {
    "name": "ipython",
    "version": 3
   },
   "file_extension": ".py",
   "mimetype": "text/x-python",
   "name": "python",
   "nbconvert_exporter": "python",
   "pygments_lexer": "ipython3",
   "version": "3.7.7"
  }
 },
 "nbformat": 4,
 "nbformat_minor": 4
}
