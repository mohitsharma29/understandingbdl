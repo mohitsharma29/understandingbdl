{
 "cells": [
  {
   "cell_type": "markdown",
   "metadata": {},
   "source": [
    "#  Variational Inference"
   ]
  },
  {
   "cell_type": "code",
   "execution_count": 260,
   "metadata": {},
   "outputs": [
    {
     "name": "stdout",
     "output_type": "stream",
     "text": [
      "The autoreload extension is already loaded. To reload it, use:\n",
      "  %reload_ext autoreload\n"
     ]
    }
   ],
   "source": [
    "import sys\n",
    "import numpy as np\n",
    "import matplotlib.pyplot as plt\n",
    "%matplotlib inline\n",
    "\n",
    "import torch\n",
    "import torch.utils.data\n",
    "from torch import nn\n",
    "from torch.nn import functional as F\n",
    "from torch.nn.parameter import Parameter\n",
    "\n",
    "import seaborn as sns\n",
    "\n",
    "from swag import data, models, utils, losses\n",
    "from swag.posteriors import SWAG\n",
    "\n",
    "import tqdm\n",
    "\n",
    "import os\n",
    "import math\n",
    "\n",
    "torch.backends.cudnn.benchmark = True\n",
    "torch.manual_seed(1)\n",
    "torch.cuda.manual_seed(1)\n",
    "np.random.seed(1)\n",
    "\n",
    "import hamiltorch\n",
    "\n",
    "%load_ext autoreload\n",
    "%autoreload 2"
   ]
  },
  {
   "cell_type": "code",
   "execution_count": 261,
   "metadata": {},
   "outputs": [
    {
     "data": {
      "text/plain": [
       "[<matplotlib.lines.Line2D at 0x7f9c95be57d0>]"
      ]
     },
     "execution_count": 261,
     "metadata": {},
     "output_type": "execute_result"
    },
    {
     "data": {
      "image/png": "[encoded data removed]",
      "text/plain": [
       "<Figure size 432x288 with 1 Axes>"
      ]
     },
     "metadata": {
      "needs_background": "light"
     },
     "output_type": "display_data"
    }
   ],
   "source": [
    "def featurize(x):\n",
    "    return torch.cat([x[:, None], x[:, None]**2], dim=1)\n",
    "        \n",
    "\n",
    "\n",
    "arr = np.load(\"data.npz\") \n",
    "x = torch.from_numpy(arr['x'])\n",
    "f = featurize(x)\n",
    "y = torch.from_numpy(arr['y']) * 10\n",
    "\n",
    "x_ = torch.from_numpy(arr['x_'])\n",
    "f_ = featurize(x_)\n",
    "y_ = torch.from_numpy(arr['y_']) * 10\n",
    "\n",
    "plt.plot(x.data.numpy(), y.data.numpy(), \"ro\")\n",
    "plt.plot(x_.data.numpy(), y_.data.numpy(), \"-b\")"
   ]
  },
  {
   "cell_type": "code",
   "execution_count": 262,
   "metadata": {},
   "outputs": [],
   "source": [
    "class LinearVI(nn.Module):\n",
    "    \n",
    "    def __init__(self, in_features: int, out_features: int, bias: bool = True):\n",
    "        super(LinearVI, self).__init__()\n",
    "        self.in_features = in_features\n",
    "        self.out_features = out_features\n",
    "        self.weight_mean = Parameter(torch.Tensor(out_features, in_features))\n",
    "        self.weight_isp_std = Parameter(torch.Tensor(out_features, in_features))\n",
    "        if bias:\n",
    "            self.bias_mean = Parameter(torch.Tensor(out_features))\n",
    "            self.bias_isp_std = Parameter(torch.Tensor(out_features))\n",
    "            self.with_bias = True\n",
    "        else:\n",
    "            self.with_bias = False\n",
    "        self.reset_parameters()\n",
    "        \n",
    "        self.eps = 1e-6\n",
    "        self.pretraining = False\n",
    "        \n",
    "    def forward(self, input):\n",
    "        if self.pretraining:\n",
    "            return F.linear(input, self.weight_mean, self.bias_mean)\n",
    "        w_sigma = F.softplus(self.weight_isp_std) + self.eps\n",
    "        w = self.weight_mean + torch.randn_like(self.weight_mean) * w_sigma\n",
    "        if self.with_bias:\n",
    "            b_sigma = F.softplus(self.bias_isp_std) + self.eps\n",
    "            b = self.bias_mean + torch.randn_like(self.bias_mean) * b_sigma\n",
    "        else:\n",
    "            b = None\n",
    "        return F.linear(input, w, b)\n",
    "    \n",
    "    def pretrain(self):\n",
    "        self.pretraining = True\n",
    "    \n",
    "    def finetune(self):\n",
    "        self.pretraining = False\n",
    "        \n",
    "    def reset_parameters(self) -> None:\n",
    "        torch.nn.init.kaiming_uniform_(self.weight_mean, a=math.sqrt(5))\n",
    "        self.weight_isp_std.data.fill_(-3)\n",
    "        if self.with_bias:\n",
    "            fan_in, _ = torch.nn.init._calculate_fan_in_and_fan_out(self.weight_mean)\n",
    "            bound = 1 / math.sqrt(fan_in)\n",
    "            torch.nn.init.uniform_(self.bias_mean, -bound, bound)\n",
    "            self.bias_isp_std.data.fill_(-3)\n",
    "    \n",
    "    def _get_kl(self, param_mean, param_isp_std, prior_log_sigma):\n",
    "        sigma = F.softplus(param_isp_std) + self.eps\n",
    "        kl = torch.sum(prior_log_sigma - torch.log(sigma) +\n",
    "                       0.5 * (sigma ** 2) / (math.exp(prior_log_sigma * 2)))\n",
    "        kl += 0.5 * torch.sum(param_mean ** 2) / math.exp(prior_log_sigma * 2)\n",
    "        return kl\n",
    "    \n",
    "    def kl_with_prior(self, prior_log_sigma):\n",
    "        w_kl = self._get_kl(self.weight_mean, self.weight_isp_std, prior_log_sigma)\n",
    "        if self.with_bias:\n",
    "            b_kl = self._get_kl(self.bias_mean, self.bias_isp_std, prior_log_sigma)\n",
    "            return w_kl + b_kl\n",
    "        else:\n",
    "            return w_kl"
   ]
  },
  {
   "cell_type": "code",
   "execution_count": 263,
   "metadata": {},
   "outputs": [],
   "source": [
    "\n",
    "class RegNetVI(nn.Sequential):\n",
    "    def __init__(self, dimensions, input_dim=1, output_dim=1, apply_var=True):\n",
    "        super(RegNetVI, self).__init__()\n",
    "        self.dimensions = [input_dim, *dimensions, output_dim]        \n",
    "        for i in range(len(self.dimensions) - 1):\n",
    "            self.add_module('linear%d' % i, LinearVI(self.dimensions[i], self.dimensions[i + 1]))\n",
    "            if i < len(self.dimensions) - 2:\n",
    "                self.add_module('relu%d' % i, torch.nn.ReLU())\n",
    "                \n",
    "    def pretrain(self):\n",
    "        for module in self:\n",
    "            if isinstance(module, LinearVI):\n",
    "                module.pretrain()\n",
    "    \n",
    "    def finetune(self):\n",
    "        for module in self:\n",
    "            if isinstance(module, LinearVI):\n",
    "                module.finetune()"
   ]
  },
  {
   "cell_type": "code",
   "execution_count": 264,
   "metadata": {},
   "outputs": [],
   "source": [
    "n_steps = 3000\n",
    "\n",
    "net = RegNetVI(dimensions=[10, 10, 10], input_dim=2)\n",
    "net.pretrain()\n",
    "\n",
    "optimizer = torch.optim.SGD(net.parameters(), lr=5e-6)\n",
    "criterion = torch.nn.functional.mse_loss\n",
    "noise_var = 0.0005\n",
    "prior_var = 100\n",
    "\n",
    "for epoch in range(n_steps):\n",
    "    optimizer.zero_grad()\n",
    "    preds = net(f)\n",
    "    loss = criterion(preds, y) / (2 * noise_var)\n",
    "    loss.backward()\n",
    "    optimizer.step()"
   ]
  },
  {
   "cell_type": "code",
   "execution_count": 265,
   "metadata": {},
   "outputs": [
    {
     "data": {
      "text/plain": [
       "[<matplotlib.lines.Line2D at 0x7f9c95b46ad0>]"
      ]
     },
     "execution_count": 265,
     "metadata": {},
     "output_type": "execute_result"
    },
    {
     "data": {
      "image/png": "[encoded data removed]",
      "text/plain": [
       "<Figure size 432x288 with 1 Axes>"
      ]
     },
     "metadata": {
      "needs_background": "light"
     },
     "output_type": "display_data"
    }
   ],
   "source": [
    "plt.plot(x.data.numpy(), y.data.numpy(), \"ro\")\n",
    "plt.plot(x_.data.numpy(), net(f_).data.numpy(), \"-b\")"
   ]
  },
  {
   "cell_type": "markdown",
   "metadata": {},
   "source": [
    "## VI"
   ]
  },
  {
   "cell_type": "code",
   "execution_count": 266,
   "metadata": {},
   "outputs": [],
   "source": [
    "def compute_kl_term(net, prior_log_sigma):\n",
    "    kl = 0.\n",
    "    for module in net:\n",
    "        if isinstance(module, LinearVI):\n",
    "            kl += module.kl_with_prior(prior_log_sigma)\n",
    "    return kl"
   ]
  },
  {
   "cell_type": "code",
   "execution_count": 276,
   "metadata": {},
   "outputs": [
    {
     "name": "stderr",
     "output_type": "stream",
     "text": [
      "100%|██████████| 10000/10000 [00:22<00:00, 450.27it/s]\n"
     ]
    }
   ],
   "source": [
    "n_steps = 10000\n",
    "prior_var = 0.1\n",
    "\n",
    "net.finetune()\n",
    "# net.pretrain()\n",
    "\n",
    "optimizer = torch.optim.SGD(net.parameters(), lr=1e-5)\n",
    "criterion = torch.nn.functional.mse_loss\n",
    "noise_var = 0.0005\n",
    "\n",
    "for epoch in tqdm.tqdm(range(n_steps)):\n",
    "    optimizer.zero_grad()\n",
    "    preds = net(f)\n",
    "    loss = criterion(preds, y) / (2 * noise_var)\n",
    "    loss += compute_kl_term(net, prior_log_sigma=np.log(prior_var) / 2) / len(y)\n",
    "    loss.backward()\n",
    "    optimizer.step()"
   ]
  },
  {
   "cell_type": "code",
   "execution_count": 279,
   "metadata": {},
   "outputs": [
    {
     "data": {
      "text/plain": [
       "[<matplotlib.lines.Line2D at 0x7f9c95658690>]"
      ]
     },
     "execution_count": 279,
     "metadata": {},
     "output_type": "execute_result"
    },
    {
     "data": {
      "image/png": "[encoded data removed]",
      "text/plain": [
       "<Figure size 432x288 with 1 Axes>"
      ]
     },
     "metadata": {
      "needs_background": "light"
     },
     "output_type": "display_data"
    }
   ],
   "source": [
    "# net.pretrain()\n",
    "plt.plot(x.data.numpy(), y.data.numpy(), \"ro\")\n",
    "plt.plot(x_.data.numpy(), net(f_).data.numpy(), \"-b\")"
   ]
  },
  {
   "cell_type": "code",
   "execution_count": 219,
   "metadata": {},
   "outputs": [],
   "source": [
    "optimizer.zero_grad()\n",
    "# loss = 0.5 * torch.sum(net[0].weight_mean**2) + 0.5 * torch.sum(net[2].weight_mean**2)\n",
    "# loss = net[0].kl_with_prior(1.) + net[6].kl_with_prior(1.) + net[2].kl_with_prior(1.) + net[4].kl_with_prior(1.)\n",
    "loss = compute_kl_term(net, prior_log_sigma=np.log(prior_var) / 2) #/ len(y)\n",
    "loss.backward()"
   ]
  },
  {
   "cell_type": "code",
   "execution_count": 249,
   "metadata": {},
   "outputs": [],
   "source": [
    "# for module in net:\n",
    "#     if isinstance(module, LinearVI):\n",
    "#         print(module.weight_mean, F.softplus(module.weight_isp_std))\n",
    "# #         print(module.weight_mean, module.weight_mean.grad)#, module.weight_mean.grad / module.weight_mean)\n",
    "# #         print(module.bias_mean, module.bias_mean.grad)"
   ]
  },
  {
   "cell_type": "code",
   "execution_count": 280,
   "metadata": {},
   "outputs": [],
   "source": [
    "all_preds = np.vstack([net(f_)[None, :].data.numpy() for _ in range(100)])"
   ]
  },
  {
   "cell_type": "code",
   "execution_count": 281,
   "metadata": {},
   "outputs": [
    {
     "data": {
      "text/plain": [
       "(-1, 4)"
      ]
     },
     "execution_count": 281,
     "metadata": {},
     "output_type": "execute_result"
    },
    {
     "data": {
      "image/png": "[encoded data removed]",
      "text/plain": [
       "<Figure size 432x288 with 1 Axes>"
      ]
     },
     "metadata": {
      "needs_background": "light"
     },
     "output_type": "display_data"
    }
   ],
   "source": [
    "# all_preds = np.vstack([np.load(\"preds_de_{}.npy\".format(i)) for i in range(n_ens)])\n",
    "# all_preds = np.load(\"deep_ensembles_preds.npy\")[:]\n",
    "pred_mean = all_preds.mean(axis=0)\n",
    "pred_std = all_preds.std(axis=0)\n",
    "pred_upper = pred_mean + pred_std\n",
    "pred_lower = pred_mean - pred_std\n",
    "\n",
    "plt.plot(x.data.numpy(), y.data.numpy(), \"ro\")\n",
    "# plt.plot(x_.data.numpy(), y_.data.numpy(), \"--k\")\n",
    "plt.plot(x_.data.numpy(), all_preds[:, :, 0].T, \"-b\", alpha=0.05);\n",
    "plt.plot(x_.data.numpy(), pred_mean, \"-b\", lw=5)\n",
    "plt.plot(x_.data.numpy(), pred_lower, \"-b\", lw=2)\n",
    "plt.plot(x_.data.numpy(), pred_upper, \"-b\", lw=2)\n",
    "plt.ylim(-1, 4)"
   ]
  },
  {
   "cell_type": "code",
   "execution_count": 282,
   "metadata": {},
   "outputs": [],
   "source": [
    "# np.save(\"vi_preds\", all_preds)"
   ]
  }
 ],
 "metadata": {
  "kernelspec": {
   "display_name": "py37",
   "language": "python",
   "name": "py37"
  },
  "language_info": {
   "codemirror_mode": {
    "name": "ipython",
    "version": 3
   },
   "file_extension": ".py",
   "mimetype": "text/x-python",
   "name": "python",
   "nbconvert_exporter": "python",
   "pygments_lexer": "ipython3",
   "version": "3.7.6"
  }
 },
 "nbformat": 4,
 "nbformat_minor": 2
}
